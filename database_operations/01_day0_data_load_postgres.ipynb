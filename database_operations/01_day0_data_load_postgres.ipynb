{
 "cells": [
  {
   "cell_type": "markdown",
   "metadata": {},
   "source": [
    "***\n",
    "# Day 0/Initial Database Setup\n",
    "1. Create a database in PostgresDB \n",
    "2. Load the data from CSV files for - \n",
    "    i. Inspections table\n",
    "    ii. violations table\n",
    "\n",
    "The csv files are expected to be stored in /Data location under parent directory\n",
    "The csv files are expected to have consistent headers.\n",
    "\n",
    "Further process the data to -\n",
    "1. create the aggregate from violations table\n",
    "2. Join the datasets to get the number of violations for every facility\n",
    "***"
   ]
  },
  {
   "cell_type": "code",
   "execution_count": 2,
   "metadata": {},
   "outputs": [],
   "source": [
    "import toml\n",
    "import os\n",
    "import pandas as pd"
   ]
  },
  {
   "cell_type": "code",
   "execution_count": 3,
   "metadata": {},
   "outputs": [],
   "source": [
    "#Set Pandas options\n",
    "pd.set_option('display.max_columns', None)"
   ]
  },
  {
   "cell_type": "code",
   "execution_count": 4,
   "metadata": {},
   "outputs": [],
   "source": [
    "#import generic functions for database operations\n",
    "from create_database_function import create_postgres_db\n",
    "from create_table_function import create_postgres_table\n",
    "from create_table_from_pandas_df_function import create_table_from_df\n",
    "from create_df_from_sql_function import create_df_from_sql\n",
    "from day0_data_load import load_data_day0"
   ]
  },
  {
   "cell_type": "code",
   "execution_count": 5,
   "metadata": {},
   "outputs": [
    {
     "name": "stdout",
     "output_type": "stream",
     "text": [
      "C:\\Users\\guest1\\MSc_Advanced_Programming\\advanced-programming-assessment\\database_operations\n"
     ]
    }
   ],
   "source": [
    "#get current working directory\n",
    "curr_dir = os.getcwd()\n",
    "print(curr_dir)"
   ]
  },
  {
   "cell_type": "code",
   "execution_count": 6,
   "metadata": {},
   "outputs": [
    {
     "name": "stdout",
     "output_type": "stream",
     "text": [
      "C:\\Users\\guest1\\MSc_Advanced_Programming\\advanced-programming-assessment\n"
     ]
    }
   ],
   "source": [
    "os.chdir('..')\n",
    "wdir = os.getcwd()\n",
    "print(wdir)"
   ]
  },
  {
   "cell_type": "code",
   "execution_count": 7,
   "metadata": {},
   "outputs": [
    {
     "name": "stdout",
     "output_type": "stream",
     "text": [
      "{'postgres_credentials': {'username': 'postgres', 'password': 'admin', 'host': '127.0.0.1', 'port': '5432'}, 'db_details': {'dbname': 'inspections_db', 'inspections_table': 'inspections', 'violations_table': 'violations', 'violations_agg_table': 'violations_aggregated', 'inspections_enriched_table': 'inspections_enriched', 'inspections_cleaned_table': 'inspections_cleaned', 'zip_statistics_table': 'statistics_zip_code', 'seating_type_statistics_table': 'statistics_seating_type', 'seating_capacity_statistics_table': 'statistics_seating_capacity', 'viz_violation_type': 'viz_violation_type', 'viz_num_violations': 'viz_violation_type', 'viz_geography': 'viz_geography'}}\n"
     ]
    }
   ],
   "source": [
    "config = toml.load(wdir + \"\\config.toml\")\n",
    "print (config)"
   ]
  },
  {
   "cell_type": "markdown",
   "metadata": {},
   "source": [
    "***\n",
    "Create a database in postgres\n",
    "***"
   ]
  },
  {
   "cell_type": "code",
   "execution_count": 8,
   "metadata": {},
   "outputs": [
    {
     "name": "stdout",
     "output_type": "stream",
     "text": [
      "Database already exists:  inspections_db\n",
      "PostgreSQL connection is closed\n"
     ]
    }
   ],
   "source": [
    "#Call create database function to create a new database in postgres called 'inspection_db'\n",
    "create_postgres_db(config['postgres_credentials'], config['db_details']['dbname'])"
   ]
  },
  {
   "cell_type": "markdown",
   "metadata": {},
   "source": [
    "***\n",
    "Create a Table for inspections data\n",
    "***"
   ]
  },
  {
   "cell_type": "code",
   "execution_count": 9,
   "metadata": {},
   "outputs": [],
   "source": [
    "#Load data in Pandas dataframe so as to get the datatypes standardised\n",
    "\n",
    "inspections = pd.read_csv(wdir + '\\Data\\Inspections.csv')"
   ]
  },
  {
   "cell_type": "code",
   "execution_count": 10,
   "metadata": {},
   "outputs": [
    {
     "data": {
      "text/plain": [
       "['ACTIVITY DATE',\n",
       " 'OWNER ID',\n",
       " 'OWNER NAME',\n",
       " 'FACILITY ID',\n",
       " 'FACILITY NAME',\n",
       " 'RECORD ID',\n",
       " 'PROGRAM NAME',\n",
       " 'PROGRAM STATUS',\n",
       " 'PROGRAM ELEMENT (PE)',\n",
       " 'PE DESCRIPTION',\n",
       " 'FACILITY ADDRESS',\n",
       " 'FACILITY CITY',\n",
       " 'FACILITY STATE',\n",
       " 'FACILITY ZIP',\n",
       " 'SERVICE CODE',\n",
       " 'SERVICE DESCRIPTION',\n",
       " 'SCORE',\n",
       " 'GRADE',\n",
       " 'SERIAL NUMBER',\n",
       " 'EMPLOYEE ID',\n",
       " 'Location',\n",
       " '2011 Supervisorial District Boundaries (Official)',\n",
       " 'Census Tracts 2010',\n",
       " 'Board Approved Statistical Areas',\n",
       " 'Zip Codes']"
      ]
     },
     "execution_count": 10,
     "metadata": {},
     "output_type": "execute_result"
    }
   ],
   "source": [
    "list(inspections.columns)"
   ]
  },
  {
   "cell_type": "code",
   "execution_count": 11,
   "metadata": {},
   "outputs": [],
   "source": [
    "#Rename dataframe columns in order to be standardised for Postgres schema\n",
    "inspections_col_rename = {\n",
    "    'ACTIVITY DATE':'activity_date', \n",
    "    'OWNER ID':'owner_id', \n",
    "    'OWNER NAME':'owner_name', \n",
    "    'FACILITY ID':'facility_id',\n",
    "    'FACILITY NAME':'facility_name', \n",
    "    'RECORD ID':'record_id', \n",
    "    'PROGRAM NAME':'program_name', \n",
    "    'PROGRAM STATUS':'program_status',\n",
    "    'PROGRAM ELEMENT (PE)':'program_element_pe', \n",
    "    'PE DESCRIPTION':'pe_desc', \n",
    "    'FACILITY ADDRESS':'facility_address',\n",
    "    'FACILITY CITY':'facility_city', \n",
    "    'FACILITY STATE':'facility_state', \n",
    "    'FACILITY ZIP':'facility_zip', \n",
    "    'SERVICE CODE':'service_code',\n",
    "    'SERVICE DESCRIPTION':'service_desc', \n",
    "    'SCORE':'score', \n",
    "    'GRADE':'grade', \n",
    "    'SERIAL NUMBER':'serial_number', \n",
    "    'EMPLOYEE ID':'employee_id',\n",
    "    'Location':'location', \n",
    "    '2011 Supervisorial District Boundaries (Official)':'supervisorial_district_boundaries',\n",
    "    'Census Tracts 2010':'census_tracts_2010', \n",
    "    'Board Approved Statistical Areas':'board_approved_statistical_areas', \n",
    "    'Zip Codes':'zip_code'\n",
    "    }\n",
    "\n",
    "inspections = inspections.rename(columns=inspections_col_rename)"
   ]
  },
  {
   "cell_type": "code",
   "execution_count": 10,
   "metadata": {},
   "outputs": [
    {
     "name": "stdout",
     "output_type": "stream",
     "text": [
      "Table successfully created: inspections\n"
     ]
    }
   ],
   "source": [
    "#Create a table for inspections using a generic function\n",
    "create_table_from_df(config['postgres_credentials'], config['db_details']['dbname'], config['db_details']['inspections_table'], inspections)"
   ]
  },
  {
   "cell_type": "markdown",
   "metadata": {},
   "source": [
    "***\n",
    "Create a Table for violations data\n",
    "***"
   ]
  },
  {
   "cell_type": "code",
   "execution_count": 16,
   "metadata": {},
   "outputs": [],
   "source": [
    "#Load data in Pandas dataframe so as to get the datatypes standardised\n",
    "\n",
    "violations = pd.read_csv(wdir + \"\\Data\" + \"\\\\\" + \"violations.csv\")"
   ]
  },
  {
   "cell_type": "code",
   "execution_count": 17,
   "metadata": {},
   "outputs": [
    {
     "data": {
      "text/plain": [
       "['SERIAL NUMBER',\n",
       " 'VIOLATION  STATUS',\n",
       " 'VIOLATION CODE',\n",
       " 'VIOLATION DESCRIPTION',\n",
       " 'POINTS']"
      ]
     },
     "execution_count": 17,
     "metadata": {},
     "output_type": "execute_result"
    }
   ],
   "source": [
    "list(violations.columns)"
   ]
  },
  {
   "cell_type": "code",
   "execution_count": 12,
   "metadata": {},
   "outputs": [
    {
     "data": {
      "text/html": [
       "<div>\n",
       "<style scoped>\n",
       "    .dataframe tbody tr th:only-of-type {\n",
       "        vertical-align: middle;\n",
       "    }\n",
       "\n",
       "    .dataframe tbody tr th {\n",
       "        vertical-align: top;\n",
       "    }\n",
       "\n",
       "    .dataframe thead th {\n",
       "        text-align: right;\n",
       "    }\n",
       "</style>\n",
       "<table border=\"1\" class=\"dataframe\">\n",
       "  <thead>\n",
       "    <tr style=\"text-align: right;\">\n",
       "      <th></th>\n",
       "      <th>SERIAL NUMBER</th>\n",
       "      <th>VIOLATION  STATUS</th>\n",
       "      <th>VIOLATION CODE</th>\n",
       "      <th>VIOLATION DESCRIPTION</th>\n",
       "      <th>POINTS</th>\n",
       "    </tr>\n",
       "  </thead>\n",
       "  <tbody>\n",
       "    <tr>\n",
       "      <th>0</th>\n",
       "      <td>DA2FXQNN6</td>\n",
       "      <td>OUT OF COMPLIANCE</td>\n",
       "      <td>F048</td>\n",
       "      <td># 47. Permits Available</td>\n",
       "      <td>1</td>\n",
       "    </tr>\n",
       "    <tr>\n",
       "      <th>1</th>\n",
       "      <td>DA2FXQNN6</td>\n",
       "      <td>OUT OF COMPLIANCE</td>\n",
       "      <td>F046</td>\n",
       "      <td># 46. Signs posted; last inspection report ava...</td>\n",
       "      <td>1</td>\n",
       "    </tr>\n",
       "    <tr>\n",
       "      <th>2</th>\n",
       "      <td>DA2FXQNN6</td>\n",
       "      <td>OUT OF COMPLIANCE</td>\n",
       "      <td>F033</td>\n",
       "      <td># 33. Nonfood-contact surfaces clean and in go...</td>\n",
       "      <td>1</td>\n",
       "    </tr>\n",
       "    <tr>\n",
       "      <th>3</th>\n",
       "      <td>DACP43IQW</td>\n",
       "      <td>OUT OF COMPLIANCE</td>\n",
       "      <td>F048</td>\n",
       "      <td># 47. Permits Available</td>\n",
       "      <td>1</td>\n",
       "    </tr>\n",
       "    <tr>\n",
       "      <th>4</th>\n",
       "      <td>DACP43IQW</td>\n",
       "      <td>OUT OF COMPLIANCE</td>\n",
       "      <td>F044</td>\n",
       "      <td># 44. Floors, walls and ceilings: properly bui...</td>\n",
       "      <td>1</td>\n",
       "    </tr>\n",
       "  </tbody>\n",
       "</table>\n",
       "</div>"
      ],
      "text/plain": [
       "  SERIAL NUMBER  VIOLATION  STATUS VIOLATION CODE  \\\n",
       "0     DA2FXQNN6  OUT OF COMPLIANCE           F048   \n",
       "1     DA2FXQNN6  OUT OF COMPLIANCE           F046   \n",
       "2     DA2FXQNN6  OUT OF COMPLIANCE           F033   \n",
       "3     DACP43IQW  OUT OF COMPLIANCE           F048   \n",
       "4     DACP43IQW  OUT OF COMPLIANCE           F044   \n",
       "\n",
       "                               VIOLATION DESCRIPTION  POINTS  \n",
       "0                            # 47. Permits Available       1  \n",
       "1  # 46. Signs posted; last inspection report ava...       1  \n",
       "2  # 33. Nonfood-contact surfaces clean and in go...       1  \n",
       "3                            # 47. Permits Available       1  \n",
       "4  # 44. Floors, walls and ceilings: properly bui...       1  "
      ]
     },
     "execution_count": 12,
     "metadata": {},
     "output_type": "execute_result"
    }
   ],
   "source": [
    "violations.head(5)"
   ]
  },
  {
   "cell_type": "code",
   "execution_count": 13,
   "metadata": {},
   "outputs": [],
   "source": [
    "#Rename dataframe columns in order to be standardised for Postgres schema\n",
    "violations_col_rename = {\n",
    "    'SERIAL NUMBER':'serial_number', \n",
    "    'VIOLATION STATUS':'violation_status', \n",
    "    'VIOLATION CODE':'violation_code',\n",
    "    'VIOLATION DESCRIPTION':'violation_desc', \n",
    "    'POINTS':'points'\n",
    "    }\n",
    "\n",
    "violations = violations.rename(columns=violations_col_rename)"
   ]
  },
  {
   "cell_type": "code",
   "execution_count": 14,
   "metadata": {},
   "outputs": [
    {
     "data": {
      "text/html": [
       "<div>\n",
       "<style scoped>\n",
       "    .dataframe tbody tr th:only-of-type {\n",
       "        vertical-align: middle;\n",
       "    }\n",
       "\n",
       "    .dataframe tbody tr th {\n",
       "        vertical-align: top;\n",
       "    }\n",
       "\n",
       "    .dataframe thead th {\n",
       "        text-align: right;\n",
       "    }\n",
       "</style>\n",
       "<table border=\"1\" class=\"dataframe\">\n",
       "  <thead>\n",
       "    <tr style=\"text-align: right;\">\n",
       "      <th></th>\n",
       "      <th>serial_number</th>\n",
       "      <th>VIOLATION  STATUS</th>\n",
       "      <th>violation_code</th>\n",
       "      <th>violation_desc</th>\n",
       "      <th>points</th>\n",
       "    </tr>\n",
       "  </thead>\n",
       "  <tbody>\n",
       "    <tr>\n",
       "      <th>0</th>\n",
       "      <td>DA2FXQNN6</td>\n",
       "      <td>OUT OF COMPLIANCE</td>\n",
       "      <td>F048</td>\n",
       "      <td># 47. Permits Available</td>\n",
       "      <td>1</td>\n",
       "    </tr>\n",
       "    <tr>\n",
       "      <th>1</th>\n",
       "      <td>DA2FXQNN6</td>\n",
       "      <td>OUT OF COMPLIANCE</td>\n",
       "      <td>F046</td>\n",
       "      <td># 46. Signs posted; last inspection report ava...</td>\n",
       "      <td>1</td>\n",
       "    </tr>\n",
       "    <tr>\n",
       "      <th>2</th>\n",
       "      <td>DA2FXQNN6</td>\n",
       "      <td>OUT OF COMPLIANCE</td>\n",
       "      <td>F033</td>\n",
       "      <td># 33. Nonfood-contact surfaces clean and in go...</td>\n",
       "      <td>1</td>\n",
       "    </tr>\n",
       "    <tr>\n",
       "      <th>3</th>\n",
       "      <td>DACP43IQW</td>\n",
       "      <td>OUT OF COMPLIANCE</td>\n",
       "      <td>F048</td>\n",
       "      <td># 47. Permits Available</td>\n",
       "      <td>1</td>\n",
       "    </tr>\n",
       "    <tr>\n",
       "      <th>4</th>\n",
       "      <td>DACP43IQW</td>\n",
       "      <td>OUT OF COMPLIANCE</td>\n",
       "      <td>F044</td>\n",
       "      <td># 44. Floors, walls and ceilings: properly bui...</td>\n",
       "      <td>1</td>\n",
       "    </tr>\n",
       "  </tbody>\n",
       "</table>\n",
       "</div>"
      ],
      "text/plain": [
       "  serial_number  VIOLATION  STATUS violation_code  \\\n",
       "0     DA2FXQNN6  OUT OF COMPLIANCE           F048   \n",
       "1     DA2FXQNN6  OUT OF COMPLIANCE           F046   \n",
       "2     DA2FXQNN6  OUT OF COMPLIANCE           F033   \n",
       "3     DACP43IQW  OUT OF COMPLIANCE           F048   \n",
       "4     DACP43IQW  OUT OF COMPLIANCE           F044   \n",
       "\n",
       "                                      violation_desc  points  \n",
       "0                            # 47. Permits Available       1  \n",
       "1  # 46. Signs posted; last inspection report ava...       1  \n",
       "2  # 33. Nonfood-contact surfaces clean and in go...       1  \n",
       "3                            # 47. Permits Available       1  \n",
       "4  # 44. Floors, walls and ceilings: properly bui...       1  "
      ]
     },
     "execution_count": 14,
     "metadata": {},
     "output_type": "execute_result"
    }
   ],
   "source": [
    "violations.head(5)"
   ]
  },
  {
   "cell_type": "code",
   "execution_count": 15,
   "metadata": {},
   "outputs": [
    {
     "name": "stdout",
     "output_type": "stream",
     "text": [
      "Table successfully created: violations\n"
     ]
    }
   ],
   "source": [
    "#Create a table for inspections using a generic function\n",
    "create_table_from_df(config['postgres_credentials'], config['db_details']['dbname'], config['db_details']['violations_table'], violations)"
   ]
  },
  {
   "cell_type": "markdown",
   "metadata": {},
   "source": [
    "***\n",
    "Aggregate violations data to get number of violations per serial number\n",
    "***"
   ]
  },
  {
   "cell_type": "code",
   "execution_count": 16,
   "metadata": {},
   "outputs": [],
   "source": [
    "#Using create_df_from_sql function create the pandas dataframe for violations table.\n",
    "#Pass connection config, dbname and table name to the function\n",
    "violations_data = create_df_from_sql(config['postgres_credentials'], config['db_details']['dbname'], config['db_details']['violations_table'])"
   ]
  },
  {
   "cell_type": "code",
   "execution_count": 17,
   "metadata": {},
   "outputs": [
    {
     "data": {
      "text/html": [
       "<div>\n",
       "<style scoped>\n",
       "    .dataframe tbody tr th:only-of-type {\n",
       "        vertical-align: middle;\n",
       "    }\n",
       "\n",
       "    .dataframe tbody tr th {\n",
       "        vertical-align: top;\n",
       "    }\n",
       "\n",
       "    .dataframe thead th {\n",
       "        text-align: right;\n",
       "    }\n",
       "</style>\n",
       "<table border=\"1\" class=\"dataframe\">\n",
       "  <thead>\n",
       "    <tr style=\"text-align: right;\">\n",
       "      <th></th>\n",
       "      <th>serial_number</th>\n",
       "      <th>VIOLATION  STATUS</th>\n",
       "      <th>violation_code</th>\n",
       "      <th>violation_desc</th>\n",
       "      <th>points</th>\n",
       "    </tr>\n",
       "  </thead>\n",
       "  <tbody>\n",
       "    <tr>\n",
       "      <th>0</th>\n",
       "      <td>DA2FXQNN6</td>\n",
       "      <td>OUT OF COMPLIANCE</td>\n",
       "      <td>F048</td>\n",
       "      <td># 47. Permits Available</td>\n",
       "      <td>1</td>\n",
       "    </tr>\n",
       "    <tr>\n",
       "      <th>1</th>\n",
       "      <td>DA2FXQNN6</td>\n",
       "      <td>OUT OF COMPLIANCE</td>\n",
       "      <td>F046</td>\n",
       "      <td># 46. Signs posted; last inspection report ava...</td>\n",
       "      <td>1</td>\n",
       "    </tr>\n",
       "    <tr>\n",
       "      <th>2</th>\n",
       "      <td>DA2FXQNN6</td>\n",
       "      <td>OUT OF COMPLIANCE</td>\n",
       "      <td>F033</td>\n",
       "      <td># 33. Nonfood-contact surfaces clean and in go...</td>\n",
       "      <td>1</td>\n",
       "    </tr>\n",
       "    <tr>\n",
       "      <th>3</th>\n",
       "      <td>DACP43IQW</td>\n",
       "      <td>OUT OF COMPLIANCE</td>\n",
       "      <td>F048</td>\n",
       "      <td># 47. Permits Available</td>\n",
       "      <td>1</td>\n",
       "    </tr>\n",
       "    <tr>\n",
       "      <th>4</th>\n",
       "      <td>DACP43IQW</td>\n",
       "      <td>OUT OF COMPLIANCE</td>\n",
       "      <td>F044</td>\n",
       "      <td># 44. Floors, walls and ceilings: properly bui...</td>\n",
       "      <td>1</td>\n",
       "    </tr>\n",
       "  </tbody>\n",
       "</table>\n",
       "</div>"
      ],
      "text/plain": [
       "  serial_number  VIOLATION  STATUS violation_code  \\\n",
       "0     DA2FXQNN6  OUT OF COMPLIANCE           F048   \n",
       "1     DA2FXQNN6  OUT OF COMPLIANCE           F046   \n",
       "2     DA2FXQNN6  OUT OF COMPLIANCE           F033   \n",
       "3     DACP43IQW  OUT OF COMPLIANCE           F048   \n",
       "4     DACP43IQW  OUT OF COMPLIANCE           F044   \n",
       "\n",
       "                                      violation_desc  points  \n",
       "0                            # 47. Permits Available       1  \n",
       "1  # 46. Signs posted; last inspection report ava...       1  \n",
       "2  # 33. Nonfood-contact surfaces clean and in go...       1  \n",
       "3                            # 47. Permits Available       1  \n",
       "4  # 44. Floors, walls and ceilings: properly bui...       1  "
      ]
     },
     "execution_count": 17,
     "metadata": {},
     "output_type": "execute_result"
    }
   ],
   "source": [
    "violations_data.head(5)"
   ]
  },
  {
   "cell_type": "code",
   "execution_count": 18,
   "metadata": {},
   "outputs": [],
   "source": [
    "#Get the type of violation for every record\n",
    "char1 = '#'\n",
    "char2 = '.'\n",
    "violations_data['violation_type'] = violations_data['violation_desc'].apply(lambda x: x[x.find(char1)+1: x.find(char2)].strip())"
   ]
  },
  {
   "cell_type": "code",
   "execution_count": 19,
   "metadata": {},
   "outputs": [
    {
     "data": {
      "text/html": [
       "<div>\n",
       "<style scoped>\n",
       "    .dataframe tbody tr th:only-of-type {\n",
       "        vertical-align: middle;\n",
       "    }\n",
       "\n",
       "    .dataframe tbody tr th {\n",
       "        vertical-align: top;\n",
       "    }\n",
       "\n",
       "    .dataframe thead th {\n",
       "        text-align: right;\n",
       "    }\n",
       "</style>\n",
       "<table border=\"1\" class=\"dataframe\">\n",
       "  <thead>\n",
       "    <tr style=\"text-align: right;\">\n",
       "      <th></th>\n",
       "      <th>serial_number</th>\n",
       "      <th>VIOLATION  STATUS</th>\n",
       "      <th>violation_code</th>\n",
       "      <th>violation_desc</th>\n",
       "      <th>points</th>\n",
       "      <th>violation_type</th>\n",
       "    </tr>\n",
       "  </thead>\n",
       "  <tbody>\n",
       "    <tr>\n",
       "      <th>0</th>\n",
       "      <td>DA2FXQNN6</td>\n",
       "      <td>OUT OF COMPLIANCE</td>\n",
       "      <td>F048</td>\n",
       "      <td># 47. Permits Available</td>\n",
       "      <td>1</td>\n",
       "      <td>47</td>\n",
       "    </tr>\n",
       "    <tr>\n",
       "      <th>1</th>\n",
       "      <td>DA2FXQNN6</td>\n",
       "      <td>OUT OF COMPLIANCE</td>\n",
       "      <td>F046</td>\n",
       "      <td># 46. Signs posted; last inspection report ava...</td>\n",
       "      <td>1</td>\n",
       "      <td>46</td>\n",
       "    </tr>\n",
       "    <tr>\n",
       "      <th>2</th>\n",
       "      <td>DA2FXQNN6</td>\n",
       "      <td>OUT OF COMPLIANCE</td>\n",
       "      <td>F033</td>\n",
       "      <td># 33. Nonfood-contact surfaces clean and in go...</td>\n",
       "      <td>1</td>\n",
       "      <td>33</td>\n",
       "    </tr>\n",
       "    <tr>\n",
       "      <th>3</th>\n",
       "      <td>DACP43IQW</td>\n",
       "      <td>OUT OF COMPLIANCE</td>\n",
       "      <td>F048</td>\n",
       "      <td># 47. Permits Available</td>\n",
       "      <td>1</td>\n",
       "      <td>47</td>\n",
       "    </tr>\n",
       "    <tr>\n",
       "      <th>4</th>\n",
       "      <td>DACP43IQW</td>\n",
       "      <td>OUT OF COMPLIANCE</td>\n",
       "      <td>F044</td>\n",
       "      <td># 44. Floors, walls and ceilings: properly bui...</td>\n",
       "      <td>1</td>\n",
       "      <td>44</td>\n",
       "    </tr>\n",
       "  </tbody>\n",
       "</table>\n",
       "</div>"
      ],
      "text/plain": [
       "  serial_number  VIOLATION  STATUS violation_code  \\\n",
       "0     DA2FXQNN6  OUT OF COMPLIANCE           F048   \n",
       "1     DA2FXQNN6  OUT OF COMPLIANCE           F046   \n",
       "2     DA2FXQNN6  OUT OF COMPLIANCE           F033   \n",
       "3     DACP43IQW  OUT OF COMPLIANCE           F048   \n",
       "4     DACP43IQW  OUT OF COMPLIANCE           F044   \n",
       "\n",
       "                                      violation_desc  points violation_type  \n",
       "0                            # 47. Permits Available       1             47  \n",
       "1  # 46. Signs posted; last inspection report ava...       1             46  \n",
       "2  # 33. Nonfood-contact surfaces clean and in go...       1             33  \n",
       "3                            # 47. Permits Available       1             47  \n",
       "4  # 44. Floors, walls and ceilings: properly bui...       1             44  "
      ]
     },
     "execution_count": 19,
     "metadata": {},
     "output_type": "execute_result"
    }
   ],
   "source": [
    "violations_data.head(5)"
   ]
  },
  {
   "cell_type": "code",
   "execution_count": 20,
   "metadata": {},
   "outputs": [],
   "source": [
    "violations_aggregated = violations_data\\\n",
    ".groupby('serial_number')\\\n",
    ".agg({'violation_desc':'count', 'violation_type':lambda x: list(x)})\\\n",
    ".reset_index()\\\n",
    ".rename(columns={'violation_desc':'num_violations'})"
   ]
  },
  {
   "cell_type": "code",
   "execution_count": 21,
   "metadata": {},
   "outputs": [
    {
     "data": {
      "text/html": [
       "<div>\n",
       "<style scoped>\n",
       "    .dataframe tbody tr th:only-of-type {\n",
       "        vertical-align: middle;\n",
       "    }\n",
       "\n",
       "    .dataframe tbody tr th {\n",
       "        vertical-align: top;\n",
       "    }\n",
       "\n",
       "    .dataframe thead th {\n",
       "        text-align: right;\n",
       "    }\n",
       "</style>\n",
       "<table border=\"1\" class=\"dataframe\">\n",
       "  <thead>\n",
       "    <tr style=\"text-align: right;\">\n",
       "      <th></th>\n",
       "      <th>serial_number</th>\n",
       "      <th>num_violations</th>\n",
       "      <th>violation_type</th>\n",
       "    </tr>\n",
       "  </thead>\n",
       "  <tbody>\n",
       "    <tr>\n",
       "      <th>0</th>\n",
       "      <td>DA1HW0SXT</td>\n",
       "      <td>5</td>\n",
       "      <td>[01b, 42, 39, 38, 07]</td>\n",
       "    </tr>\n",
       "    <tr>\n",
       "      <th>1</th>\n",
       "      <td>DA2BIJ7IY</td>\n",
       "      <td>1</td>\n",
       "      <td>[14]</td>\n",
       "    </tr>\n",
       "    <tr>\n",
       "      <th>2</th>\n",
       "      <td>DA2BJJBJV</td>\n",
       "      <td>3</td>\n",
       "      <td>[39, 35, 33]</td>\n",
       "    </tr>\n",
       "    <tr>\n",
       "      <th>3</th>\n",
       "      <td>DA2FXQNN6</td>\n",
       "      <td>3</td>\n",
       "      <td>[47, 46, 33]</td>\n",
       "    </tr>\n",
       "    <tr>\n",
       "      <th>4</th>\n",
       "      <td>DA3QBCPMJ</td>\n",
       "      <td>4</td>\n",
       "      <td>[01b, 36, 30, 25]</td>\n",
       "    </tr>\n",
       "  </tbody>\n",
       "</table>\n",
       "</div>"
      ],
      "text/plain": [
       "  serial_number  num_violations         violation_type\n",
       "0     DA1HW0SXT               5  [01b, 42, 39, 38, 07]\n",
       "1     DA2BIJ7IY               1                   [14]\n",
       "2     DA2BJJBJV               3           [39, 35, 33]\n",
       "3     DA2FXQNN6               3           [47, 46, 33]\n",
       "4     DA3QBCPMJ               4      [01b, 36, 30, 25]"
      ]
     },
     "execution_count": 21,
     "metadata": {},
     "output_type": "execute_result"
    }
   ],
   "source": [
    "violations_aggregated.head(5)"
   ]
  },
  {
   "cell_type": "code",
   "execution_count": 22,
   "metadata": {},
   "outputs": [
    {
     "data": {
      "text/plain": [
       "True"
      ]
     },
     "execution_count": 22,
     "metadata": {},
     "output_type": "execute_result"
    }
   ],
   "source": [
    "violations_aggregated['serial_number'].count() == violations_aggregated['serial_number'].nunique()"
   ]
  },
  {
   "cell_type": "code",
   "execution_count": 23,
   "metadata": {},
   "outputs": [
    {
     "name": "stdout",
     "output_type": "stream",
     "text": [
      "Table successfully created: violations_aggregated\n"
     ]
    }
   ],
   "source": [
    "#Write back the violations aggregated data to postgres\n",
    "create_table_from_df(config['postgres_credentials'], config['db_details']['dbname'], config['db_details']['violations_agg_table'], violations_aggregated)"
   ]
  },
  {
   "cell_type": "markdown",
   "metadata": {},
   "source": [
    "***\n",
    "Join Inspections with violations aggregated to enrich the inspections data\n",
    "***"
   ]
  },
  {
   "cell_type": "code",
   "execution_count": 24,
   "metadata": {},
   "outputs": [],
   "source": [
    "#Using create_df_from_sql function create the pandas dataframe for inspections table.\n",
    "#Pass connection config, dbname and table name to the function\n",
    "inspections_data = create_df_from_sql(config['postgres_credentials'], config['db_details']['dbname'], config['db_details']['inspections_table'])"
   ]
  },
  {
   "cell_type": "code",
   "execution_count": 25,
   "metadata": {},
   "outputs": [
    {
     "data": {
      "text/html": [
       "<div>\n",
       "<style scoped>\n",
       "    .dataframe tbody tr th:only-of-type {\n",
       "        vertical-align: middle;\n",
       "    }\n",
       "\n",
       "    .dataframe tbody tr th {\n",
       "        vertical-align: top;\n",
       "    }\n",
       "\n",
       "    .dataframe thead th {\n",
       "        text-align: right;\n",
       "    }\n",
       "</style>\n",
       "<table border=\"1\" class=\"dataframe\">\n",
       "  <thead>\n",
       "    <tr style=\"text-align: right;\">\n",
       "      <th></th>\n",
       "      <th>activity_date</th>\n",
       "      <th>owner_id</th>\n",
       "      <th>owner_name</th>\n",
       "      <th>facility_id</th>\n",
       "      <th>facility_name</th>\n",
       "      <th>record_id</th>\n",
       "      <th>program_name</th>\n",
       "      <th>program_status</th>\n",
       "      <th>program_element_pe</th>\n",
       "      <th>pe_desc</th>\n",
       "      <th>facility_address</th>\n",
       "      <th>facility_city</th>\n",
       "      <th>facility_state</th>\n",
       "      <th>facility_zip</th>\n",
       "      <th>service_code</th>\n",
       "      <th>service_desc</th>\n",
       "      <th>score</th>\n",
       "      <th>grade</th>\n",
       "      <th>serial_number</th>\n",
       "      <th>employee_id</th>\n",
       "      <th>location</th>\n",
       "      <th>supervisorial_district_boundaries</th>\n",
       "      <th>census_tracts_2010</th>\n",
       "      <th>board_approved_statistical_areas</th>\n",
       "      <th>zip_code</th>\n",
       "    </tr>\n",
       "  </thead>\n",
       "  <tbody>\n",
       "    <tr>\n",
       "      <th>0</th>\n",
       "      <td>08/23/2018</td>\n",
       "      <td>OW0000809</td>\n",
       "      <td>31</td>\n",
       "      <td>FA0019645</td>\n",
       "      <td>DREAM DINNERS</td>\n",
       "      <td>PR0045642</td>\n",
       "      <td>DREAM DINNERS</td>\n",
       "      <td>ACTIVE</td>\n",
       "      <td>1631</td>\n",
       "      <td>RESTAURANT (0-30) SEATS MODERATE RISK</td>\n",
       "      <td>22226 PALOS VERDES BLVD</td>\n",
       "      <td>TORRANCE</td>\n",
       "      <td>CA</td>\n",
       "      <td>90505</td>\n",
       "      <td>1</td>\n",
       "      <td>ROUTINE INSPECTION</td>\n",
       "      <td>97</td>\n",
       "      <td>A</td>\n",
       "      <td>DA2FXQNN6</td>\n",
       "      <td>EE0000126</td>\n",
       "      <td>POINT (-118.36927 33.826754)</td>\n",
       "      <td>4</td>\n",
       "      <td>820</td>\n",
       "      <td>102</td>\n",
       "      <td>25719</td>\n",
       "    </tr>\n",
       "    <tr>\n",
       "      <th>1</th>\n",
       "      <td>12-06-17</td>\n",
       "      <td>OW0000809</td>\n",
       "      <td>31</td>\n",
       "      <td>FA0019645</td>\n",
       "      <td>DREAM DINNERS</td>\n",
       "      <td>PR0045642</td>\n",
       "      <td>DREAM DINNERS</td>\n",
       "      <td>ACTIVE</td>\n",
       "      <td>1631</td>\n",
       "      <td>RESTAURANT (0-30) SEATS MODERATE RISK</td>\n",
       "      <td>22226 PALOS VERDES BLVD</td>\n",
       "      <td>TORRANCE</td>\n",
       "      <td>CA</td>\n",
       "      <td>90505</td>\n",
       "      <td>1</td>\n",
       "      <td>ROUTINE INSPECTION</td>\n",
       "      <td>95</td>\n",
       "      <td>A</td>\n",
       "      <td>DACP43IQW</td>\n",
       "      <td>EE0000126</td>\n",
       "      <td>POINT (-118.36927 33.826754)</td>\n",
       "      <td>4</td>\n",
       "      <td>820</td>\n",
       "      <td>102</td>\n",
       "      <td>25719</td>\n",
       "    </tr>\n",
       "    <tr>\n",
       "      <th>2</th>\n",
       "      <td>06/23/2017</td>\n",
       "      <td>OW0000809</td>\n",
       "      <td>31</td>\n",
       "      <td>FA0019645</td>\n",
       "      <td>DREAM DINNERS</td>\n",
       "      <td>PR0045642</td>\n",
       "      <td>DREAM DINNERS</td>\n",
       "      <td>ACTIVE</td>\n",
       "      <td>1631</td>\n",
       "      <td>RESTAURANT (0-30) SEATS MODERATE RISK</td>\n",
       "      <td>22226 PALOS VERDES BLVD</td>\n",
       "      <td>TORRANCE</td>\n",
       "      <td>CA</td>\n",
       "      <td>90505</td>\n",
       "      <td>1</td>\n",
       "      <td>ROUTINE INSPECTION</td>\n",
       "      <td>96</td>\n",
       "      <td>A</td>\n",
       "      <td>DAEMVMRBY</td>\n",
       "      <td>EE0000126</td>\n",
       "      <td>POINT (-118.36927 33.826754)</td>\n",
       "      <td>4</td>\n",
       "      <td>820</td>\n",
       "      <td>102</td>\n",
       "      <td>25719</td>\n",
       "    </tr>\n",
       "    <tr>\n",
       "      <th>3</th>\n",
       "      <td>03/19/2019</td>\n",
       "      <td>OW0000809</td>\n",
       "      <td>31</td>\n",
       "      <td>FA0019645</td>\n",
       "      <td>DREAM DINNERS</td>\n",
       "      <td>PR0045642</td>\n",
       "      <td>DREAM DINNERS</td>\n",
       "      <td>ACTIVE</td>\n",
       "      <td>1631</td>\n",
       "      <td>RESTAURANT (0-30) SEATS MODERATE RISK</td>\n",
       "      <td>22226 PALOS VERDES BLVD</td>\n",
       "      <td>TORRANCE</td>\n",
       "      <td>CA</td>\n",
       "      <td>90505</td>\n",
       "      <td>1</td>\n",
       "      <td>ROUTINE INSPECTION</td>\n",
       "      <td>96</td>\n",
       "      <td>A</td>\n",
       "      <td>DANER68S4</td>\n",
       "      <td>EE0000126</td>\n",
       "      <td>POINT (-118.36927 33.826754)</td>\n",
       "      <td>4</td>\n",
       "      <td>820</td>\n",
       "      <td>102</td>\n",
       "      <td>25719</td>\n",
       "    </tr>\n",
       "    <tr>\n",
       "      <th>4</th>\n",
       "      <td>03-01-18</td>\n",
       "      <td>OW0000002</td>\n",
       "      <td>#1 CAFE INC</td>\n",
       "      <td>FA0056432</td>\n",
       "      <td>#1 CAFE</td>\n",
       "      <td>PR0045100</td>\n",
       "      <td>#1 CAFE</td>\n",
       "      <td>ACTIVE</td>\n",
       "      <td>1632</td>\n",
       "      <td>RESTAURANT (0-30) SEATS HIGH RISK</td>\n",
       "      <td>2080 CENTURY PARK E STE 108</td>\n",
       "      <td>LOS ANGELES</td>\n",
       "      <td>CA</td>\n",
       "      <td>90067</td>\n",
       "      <td>1</td>\n",
       "      <td>ROUTINE INSPECTION</td>\n",
       "      <td>90</td>\n",
       "      <td>A</td>\n",
       "      <td>DACZXQ74W</td>\n",
       "      <td>EE0000015</td>\n",
       "      <td>POINT (-118.412323 34.058815)</td>\n",
       "      <td>3</td>\n",
       "      <td>660</td>\n",
       "      <td>265</td>\n",
       "      <td>24032</td>\n",
       "    </tr>\n",
       "  </tbody>\n",
       "</table>\n",
       "</div>"
      ],
      "text/plain": [
       "  activity_date   owner_id   owner_name facility_id  facility_name  record_id  \\\n",
       "0    08/23/2018  OW0000809           31   FA0019645  DREAM DINNERS  PR0045642   \n",
       "1      12-06-17  OW0000809           31   FA0019645  DREAM DINNERS  PR0045642   \n",
       "2    06/23/2017  OW0000809           31   FA0019645  DREAM DINNERS  PR0045642   \n",
       "3    03/19/2019  OW0000809           31   FA0019645  DREAM DINNERS  PR0045642   \n",
       "4      03-01-18  OW0000002  #1 CAFE INC   FA0056432        #1 CAFE  PR0045100   \n",
       "\n",
       "    program_name program_status  program_element_pe  \\\n",
       "0  DREAM DINNERS         ACTIVE                1631   \n",
       "1  DREAM DINNERS         ACTIVE                1631   \n",
       "2  DREAM DINNERS         ACTIVE                1631   \n",
       "3  DREAM DINNERS         ACTIVE                1631   \n",
       "4        #1 CAFE         ACTIVE                1632   \n",
       "\n",
       "                                 pe_desc             facility_address  \\\n",
       "0  RESTAURANT (0-30) SEATS MODERATE RISK      22226 PALOS VERDES BLVD   \n",
       "1  RESTAURANT (0-30) SEATS MODERATE RISK      22226 PALOS VERDES BLVD   \n",
       "2  RESTAURANT (0-30) SEATS MODERATE RISK      22226 PALOS VERDES BLVD   \n",
       "3  RESTAURANT (0-30) SEATS MODERATE RISK      22226 PALOS VERDES BLVD   \n",
       "4      RESTAURANT (0-30) SEATS HIGH RISK  2080 CENTURY PARK E STE 108   \n",
       "\n",
       "  facility_city facility_state  facility_zip  service_code  \\\n",
       "0      TORRANCE             CA         90505             1   \n",
       "1      TORRANCE             CA         90505             1   \n",
       "2      TORRANCE             CA         90505             1   \n",
       "3      TORRANCE             CA         90505             1   \n",
       "4   LOS ANGELES             CA         90067             1   \n",
       "\n",
       "         service_desc  score grade serial_number employee_id  \\\n",
       "0  ROUTINE INSPECTION     97     A     DA2FXQNN6   EE0000126   \n",
       "1  ROUTINE INSPECTION     95     A     DACP43IQW   EE0000126   \n",
       "2  ROUTINE INSPECTION     96     A     DAEMVMRBY   EE0000126   \n",
       "3  ROUTINE INSPECTION     96     A     DANER68S4   EE0000126   \n",
       "4  ROUTINE INSPECTION     90     A     DACZXQ74W   EE0000015   \n",
       "\n",
       "                        location  supervisorial_district_boundaries  \\\n",
       "0   POINT (-118.36927 33.826754)                                  4   \n",
       "1   POINT (-118.36927 33.826754)                                  4   \n",
       "2   POINT (-118.36927 33.826754)                                  4   \n",
       "3   POINT (-118.36927 33.826754)                                  4   \n",
       "4  POINT (-118.412323 34.058815)                                  3   \n",
       "\n",
       "   census_tracts_2010  board_approved_statistical_areas  zip_code  \n",
       "0                 820                               102     25719  \n",
       "1                 820                               102     25719  \n",
       "2                 820                               102     25719  \n",
       "3                 820                               102     25719  \n",
       "4                 660                               265     24032  "
      ]
     },
     "execution_count": 25,
     "metadata": {},
     "output_type": "execute_result"
    }
   ],
   "source": [
    "inspections_data.head(5)"
   ]
  },
  {
   "cell_type": "code",
   "execution_count": 26,
   "metadata": {},
   "outputs": [
    {
     "data": {
      "text/plain": [
       "activity_date                        25\n",
       "owner_id                             25\n",
       "owner_name                           25\n",
       "facility_id                          25\n",
       "facility_name                        25\n",
       "record_id                            25\n",
       "program_name                         25\n",
       "program_status                       25\n",
       "program_element_pe                   25\n",
       "pe_desc                              25\n",
       "facility_address                     25\n",
       "facility_city                        25\n",
       "facility_state                       25\n",
       "facility_zip                         25\n",
       "service_code                         25\n",
       "service_desc                         25\n",
       "score                                25\n",
       "grade                                25\n",
       "serial_number                        25\n",
       "employee_id                          25\n",
       "location                             25\n",
       "supervisorial_district_boundaries    25\n",
       "census_tracts_2010                   25\n",
       "board_approved_statistical_areas     25\n",
       "zip_code                             25\n",
       "dtype: int64"
      ]
     },
     "execution_count": 26,
     "metadata": {},
     "output_type": "execute_result"
    }
   ],
   "source": [
    "inspections_data.count()"
   ]
  },
  {
   "cell_type": "code",
   "execution_count": 27,
   "metadata": {},
   "outputs": [],
   "source": [
    "#Using create_df_from_sql function create the pandas dataframe for violations aggregated table.\n",
    "#Pass connection config, dbname and table name to the function\n",
    "violations_agg_data = create_df_from_sql(config['postgres_credentials'], config['db_details']['dbname'], config['db_details']['violations_agg_table'])"
   ]
  },
  {
   "cell_type": "code",
   "execution_count": 28,
   "metadata": {},
   "outputs": [
    {
     "data": {
      "text/html": [
       "<div>\n",
       "<style scoped>\n",
       "    .dataframe tbody tr th:only-of-type {\n",
       "        vertical-align: middle;\n",
       "    }\n",
       "\n",
       "    .dataframe tbody tr th {\n",
       "        vertical-align: top;\n",
       "    }\n",
       "\n",
       "    .dataframe thead th {\n",
       "        text-align: right;\n",
       "    }\n",
       "</style>\n",
       "<table border=\"1\" class=\"dataframe\">\n",
       "  <thead>\n",
       "    <tr style=\"text-align: right;\">\n",
       "      <th></th>\n",
       "      <th>serial_number</th>\n",
       "      <th>num_violations</th>\n",
       "      <th>violation_type</th>\n",
       "    </tr>\n",
       "  </thead>\n",
       "  <tbody>\n",
       "    <tr>\n",
       "      <th>0</th>\n",
       "      <td>DA1HW0SXT</td>\n",
       "      <td>5</td>\n",
       "      <td>{01b,42,39,38,07}</td>\n",
       "    </tr>\n",
       "    <tr>\n",
       "      <th>1</th>\n",
       "      <td>DA2BIJ7IY</td>\n",
       "      <td>1</td>\n",
       "      <td>{14}</td>\n",
       "    </tr>\n",
       "    <tr>\n",
       "      <th>2</th>\n",
       "      <td>DA2BJJBJV</td>\n",
       "      <td>3</td>\n",
       "      <td>{39,35,33}</td>\n",
       "    </tr>\n",
       "    <tr>\n",
       "      <th>3</th>\n",
       "      <td>DA2FXQNN6</td>\n",
       "      <td>3</td>\n",
       "      <td>{47,46,33}</td>\n",
       "    </tr>\n",
       "    <tr>\n",
       "      <th>4</th>\n",
       "      <td>DA3QBCPMJ</td>\n",
       "      <td>4</td>\n",
       "      <td>{01b,36,30,25}</td>\n",
       "    </tr>\n",
       "  </tbody>\n",
       "</table>\n",
       "</div>"
      ],
      "text/plain": [
       "  serial_number  num_violations     violation_type\n",
       "0     DA1HW0SXT               5  {01b,42,39,38,07}\n",
       "1     DA2BIJ7IY               1               {14}\n",
       "2     DA2BJJBJV               3         {39,35,33}\n",
       "3     DA2FXQNN6               3         {47,46,33}\n",
       "4     DA3QBCPMJ               4     {01b,36,30,25}"
      ]
     },
     "execution_count": 28,
     "metadata": {},
     "output_type": "execute_result"
    }
   ],
   "source": [
    "violations_agg_data.head(5)"
   ]
  },
  {
   "cell_type": "code",
   "execution_count": 29,
   "metadata": {},
   "outputs": [],
   "source": [
    "#Join 2 datasets to enrich inspections data with number of violations\n",
    "inspections_enriched = pd\\\n",
    ".merge(inspections_data, violations_agg_data, on='serial_number', how='inner')"
   ]
  },
  {
   "cell_type": "code",
   "execution_count": 30,
   "metadata": {},
   "outputs": [
    {
     "data": {
      "text/html": [
       "<div>\n",
       "<style scoped>\n",
       "    .dataframe tbody tr th:only-of-type {\n",
       "        vertical-align: middle;\n",
       "    }\n",
       "\n",
       "    .dataframe tbody tr th {\n",
       "        vertical-align: top;\n",
       "    }\n",
       "\n",
       "    .dataframe thead th {\n",
       "        text-align: right;\n",
       "    }\n",
       "</style>\n",
       "<table border=\"1\" class=\"dataframe\">\n",
       "  <thead>\n",
       "    <tr style=\"text-align: right;\">\n",
       "      <th></th>\n",
       "      <th>activity_date</th>\n",
       "      <th>owner_id</th>\n",
       "      <th>owner_name</th>\n",
       "      <th>facility_id</th>\n",
       "      <th>facility_name</th>\n",
       "      <th>record_id</th>\n",
       "      <th>program_name</th>\n",
       "      <th>program_status</th>\n",
       "      <th>program_element_pe</th>\n",
       "      <th>pe_desc</th>\n",
       "      <th>facility_address</th>\n",
       "      <th>facility_city</th>\n",
       "      <th>facility_state</th>\n",
       "      <th>facility_zip</th>\n",
       "      <th>service_code</th>\n",
       "      <th>service_desc</th>\n",
       "      <th>score</th>\n",
       "      <th>grade</th>\n",
       "      <th>serial_number</th>\n",
       "      <th>employee_id</th>\n",
       "      <th>location</th>\n",
       "      <th>supervisorial_district_boundaries</th>\n",
       "      <th>census_tracts_2010</th>\n",
       "      <th>board_approved_statistical_areas</th>\n",
       "      <th>zip_code</th>\n",
       "      <th>num_violations</th>\n",
       "      <th>violation_type</th>\n",
       "    </tr>\n",
       "  </thead>\n",
       "  <tbody>\n",
       "    <tr>\n",
       "      <th>0</th>\n",
       "      <td>08/23/2018</td>\n",
       "      <td>OW0000809</td>\n",
       "      <td>31</td>\n",
       "      <td>FA0019645</td>\n",
       "      <td>DREAM DINNERS</td>\n",
       "      <td>PR0045642</td>\n",
       "      <td>DREAM DINNERS</td>\n",
       "      <td>ACTIVE</td>\n",
       "      <td>1631</td>\n",
       "      <td>RESTAURANT (0-30) SEATS MODERATE RISK</td>\n",
       "      <td>22226 PALOS VERDES BLVD</td>\n",
       "      <td>TORRANCE</td>\n",
       "      <td>CA</td>\n",
       "      <td>90505</td>\n",
       "      <td>1</td>\n",
       "      <td>ROUTINE INSPECTION</td>\n",
       "      <td>97</td>\n",
       "      <td>A</td>\n",
       "      <td>DA2FXQNN6</td>\n",
       "      <td>EE0000126</td>\n",
       "      <td>POINT (-118.36927 33.826754)</td>\n",
       "      <td>4</td>\n",
       "      <td>820</td>\n",
       "      <td>102</td>\n",
       "      <td>25719</td>\n",
       "      <td>3</td>\n",
       "      <td>{47,46,33}</td>\n",
       "    </tr>\n",
       "    <tr>\n",
       "      <th>1</th>\n",
       "      <td>12-06-17</td>\n",
       "      <td>OW0000809</td>\n",
       "      <td>31</td>\n",
       "      <td>FA0019645</td>\n",
       "      <td>DREAM DINNERS</td>\n",
       "      <td>PR0045642</td>\n",
       "      <td>DREAM DINNERS</td>\n",
       "      <td>ACTIVE</td>\n",
       "      <td>1631</td>\n",
       "      <td>RESTAURANT (0-30) SEATS MODERATE RISK</td>\n",
       "      <td>22226 PALOS VERDES BLVD</td>\n",
       "      <td>TORRANCE</td>\n",
       "      <td>CA</td>\n",
       "      <td>90505</td>\n",
       "      <td>1</td>\n",
       "      <td>ROUTINE INSPECTION</td>\n",
       "      <td>95</td>\n",
       "      <td>A</td>\n",
       "      <td>DACP43IQW</td>\n",
       "      <td>EE0000126</td>\n",
       "      <td>POINT (-118.36927 33.826754)</td>\n",
       "      <td>4</td>\n",
       "      <td>820</td>\n",
       "      <td>102</td>\n",
       "      <td>25719</td>\n",
       "      <td>5</td>\n",
       "      <td>{47,44,40,35,34}</td>\n",
       "    </tr>\n",
       "    <tr>\n",
       "      <th>2</th>\n",
       "      <td>06/23/2017</td>\n",
       "      <td>OW0000809</td>\n",
       "      <td>31</td>\n",
       "      <td>FA0019645</td>\n",
       "      <td>DREAM DINNERS</td>\n",
       "      <td>PR0045642</td>\n",
       "      <td>DREAM DINNERS</td>\n",
       "      <td>ACTIVE</td>\n",
       "      <td>1631</td>\n",
       "      <td>RESTAURANT (0-30) SEATS MODERATE RISK</td>\n",
       "      <td>22226 PALOS VERDES BLVD</td>\n",
       "      <td>TORRANCE</td>\n",
       "      <td>CA</td>\n",
       "      <td>90505</td>\n",
       "      <td>1</td>\n",
       "      <td>ROUTINE INSPECTION</td>\n",
       "      <td>96</td>\n",
       "      <td>A</td>\n",
       "      <td>DAEMVMRBY</td>\n",
       "      <td>EE0000126</td>\n",
       "      <td>POINT (-118.36927 33.826754)</td>\n",
       "      <td>4</td>\n",
       "      <td>820</td>\n",
       "      <td>102</td>\n",
       "      <td>25719</td>\n",
       "      <td>4</td>\n",
       "      <td>{37,35,34,33}</td>\n",
       "    </tr>\n",
       "    <tr>\n",
       "      <th>3</th>\n",
       "      <td>03/19/2019</td>\n",
       "      <td>OW0000809</td>\n",
       "      <td>31</td>\n",
       "      <td>FA0019645</td>\n",
       "      <td>DREAM DINNERS</td>\n",
       "      <td>PR0045642</td>\n",
       "      <td>DREAM DINNERS</td>\n",
       "      <td>ACTIVE</td>\n",
       "      <td>1631</td>\n",
       "      <td>RESTAURANT (0-30) SEATS MODERATE RISK</td>\n",
       "      <td>22226 PALOS VERDES BLVD</td>\n",
       "      <td>TORRANCE</td>\n",
       "      <td>CA</td>\n",
       "      <td>90505</td>\n",
       "      <td>1</td>\n",
       "      <td>ROUTINE INSPECTION</td>\n",
       "      <td>96</td>\n",
       "      <td>A</td>\n",
       "      <td>DANER68S4</td>\n",
       "      <td>EE0000126</td>\n",
       "      <td>POINT (-118.36927 33.826754)</td>\n",
       "      <td>4</td>\n",
       "      <td>820</td>\n",
       "      <td>102</td>\n",
       "      <td>25719</td>\n",
       "      <td>4</td>\n",
       "      <td>{44,43,40,33}</td>\n",
       "    </tr>\n",
       "    <tr>\n",
       "      <th>4</th>\n",
       "      <td>03-01-18</td>\n",
       "      <td>OW0000002</td>\n",
       "      <td>#1 CAFE INC</td>\n",
       "      <td>FA0056432</td>\n",
       "      <td>#1 CAFE</td>\n",
       "      <td>PR0045100</td>\n",
       "      <td>#1 CAFE</td>\n",
       "      <td>ACTIVE</td>\n",
       "      <td>1632</td>\n",
       "      <td>RESTAURANT (0-30) SEATS HIGH RISK</td>\n",
       "      <td>2080 CENTURY PARK E STE 108</td>\n",
       "      <td>LOS ANGELES</td>\n",
       "      <td>CA</td>\n",
       "      <td>90067</td>\n",
       "      <td>1</td>\n",
       "      <td>ROUTINE INSPECTION</td>\n",
       "      <td>90</td>\n",
       "      <td>A</td>\n",
       "      <td>DACZXQ74W</td>\n",
       "      <td>EE0000015</td>\n",
       "      <td>POINT (-118.412323 34.058815)</td>\n",
       "      <td>3</td>\n",
       "      <td>660</td>\n",
       "      <td>265</td>\n",
       "      <td>24032</td>\n",
       "      <td>9</td>\n",
       "      <td>{50,40,36,35,34,33,27,14,07}</td>\n",
       "    </tr>\n",
       "  </tbody>\n",
       "</table>\n",
       "</div>"
      ],
      "text/plain": [
       "  activity_date   owner_id   owner_name facility_id  facility_name  record_id  \\\n",
       "0    08/23/2018  OW0000809           31   FA0019645  DREAM DINNERS  PR0045642   \n",
       "1      12-06-17  OW0000809           31   FA0019645  DREAM DINNERS  PR0045642   \n",
       "2    06/23/2017  OW0000809           31   FA0019645  DREAM DINNERS  PR0045642   \n",
       "3    03/19/2019  OW0000809           31   FA0019645  DREAM DINNERS  PR0045642   \n",
       "4      03-01-18  OW0000002  #1 CAFE INC   FA0056432        #1 CAFE  PR0045100   \n",
       "\n",
       "    program_name program_status  program_element_pe  \\\n",
       "0  DREAM DINNERS         ACTIVE                1631   \n",
       "1  DREAM DINNERS         ACTIVE                1631   \n",
       "2  DREAM DINNERS         ACTIVE                1631   \n",
       "3  DREAM DINNERS         ACTIVE                1631   \n",
       "4        #1 CAFE         ACTIVE                1632   \n",
       "\n",
       "                                 pe_desc             facility_address  \\\n",
       "0  RESTAURANT (0-30) SEATS MODERATE RISK      22226 PALOS VERDES BLVD   \n",
       "1  RESTAURANT (0-30) SEATS MODERATE RISK      22226 PALOS VERDES BLVD   \n",
       "2  RESTAURANT (0-30) SEATS MODERATE RISK      22226 PALOS VERDES BLVD   \n",
       "3  RESTAURANT (0-30) SEATS MODERATE RISK      22226 PALOS VERDES BLVD   \n",
       "4      RESTAURANT (0-30) SEATS HIGH RISK  2080 CENTURY PARK E STE 108   \n",
       "\n",
       "  facility_city facility_state  facility_zip  service_code  \\\n",
       "0      TORRANCE             CA         90505             1   \n",
       "1      TORRANCE             CA         90505             1   \n",
       "2      TORRANCE             CA         90505             1   \n",
       "3      TORRANCE             CA         90505             1   \n",
       "4   LOS ANGELES             CA         90067             1   \n",
       "\n",
       "         service_desc  score grade serial_number employee_id  \\\n",
       "0  ROUTINE INSPECTION     97     A     DA2FXQNN6   EE0000126   \n",
       "1  ROUTINE INSPECTION     95     A     DACP43IQW   EE0000126   \n",
       "2  ROUTINE INSPECTION     96     A     DAEMVMRBY   EE0000126   \n",
       "3  ROUTINE INSPECTION     96     A     DANER68S4   EE0000126   \n",
       "4  ROUTINE INSPECTION     90     A     DACZXQ74W   EE0000015   \n",
       "\n",
       "                        location  supervisorial_district_boundaries  \\\n",
       "0   POINT (-118.36927 33.826754)                                  4   \n",
       "1   POINT (-118.36927 33.826754)                                  4   \n",
       "2   POINT (-118.36927 33.826754)                                  4   \n",
       "3   POINT (-118.36927 33.826754)                                  4   \n",
       "4  POINT (-118.412323 34.058815)                                  3   \n",
       "\n",
       "   census_tracts_2010  board_approved_statistical_areas  zip_code  \\\n",
       "0                 820                               102     25719   \n",
       "1                 820                               102     25719   \n",
       "2                 820                               102     25719   \n",
       "3                 820                               102     25719   \n",
       "4                 660                               265     24032   \n",
       "\n",
       "   num_violations                violation_type  \n",
       "0               3                    {47,46,33}  \n",
       "1               5              {47,44,40,35,34}  \n",
       "2               4                 {37,35,34,33}  \n",
       "3               4                 {44,43,40,33}  \n",
       "4               9  {50,40,36,35,34,33,27,14,07}  "
      ]
     },
     "execution_count": 30,
     "metadata": {},
     "output_type": "execute_result"
    }
   ],
   "source": [
    "inspections_enriched.head(5)"
   ]
  },
  {
   "cell_type": "code",
   "execution_count": 31,
   "metadata": {},
   "outputs": [
    {
     "data": {
      "text/plain": [
       "activity_date                        25\n",
       "owner_id                             25\n",
       "owner_name                           25\n",
       "facility_id                          25\n",
       "facility_name                        25\n",
       "record_id                            25\n",
       "program_name                         25\n",
       "program_status                       25\n",
       "program_element_pe                   25\n",
       "pe_desc                              25\n",
       "facility_address                     25\n",
       "facility_city                        25\n",
       "facility_state                       25\n",
       "facility_zip                         25\n",
       "service_code                         25\n",
       "service_desc                         25\n",
       "score                                25\n",
       "grade                                25\n",
       "serial_number                        25\n",
       "employee_id                          25\n",
       "location                             25\n",
       "supervisorial_district_boundaries    25\n",
       "census_tracts_2010                   25\n",
       "board_approved_statistical_areas     25\n",
       "zip_code                             25\n",
       "num_violations                       25\n",
       "violation_type                       25\n",
       "dtype: int64"
      ]
     },
     "execution_count": 31,
     "metadata": {},
     "output_type": "execute_result"
    }
   ],
   "source": [
    "inspections_enriched.count()"
   ]
  },
  {
   "cell_type": "code",
   "execution_count": 32,
   "metadata": {},
   "outputs": [
    {
     "name": "stdout",
     "output_type": "stream",
     "text": [
      "Table successfully created: inspections_enriched\n"
     ]
    }
   ],
   "source": [
    "#Write inspections enriched data to postgres table\n",
    "create_table_from_df(config['postgres_credentials'], config['db_details']['dbname'], config['db_details']['inspections_enriched_table'], inspections_enriched)"
   ]
  },
  {
   "cell_type": "markdown",
   "metadata": {},
   "source": [
    "***\n",
    "Test load_data_day0 function\n",
    "***"
   ]
  },
  {
   "cell_type": "code",
   "execution_count": 12,
   "metadata": {},
   "outputs": [],
   "source": [
    "os.chdir(curr_dir)"
   ]
  },
  {
   "cell_type": "code",
   "execution_count": 13,
   "metadata": {},
   "outputs": [
    {
     "name": "stdout",
     "output_type": "stream",
     "text": [
      "Current Directory is: C:\\Users\\guest1\\MSc_Advanced_Programming\\advanced-programming-assessment\\database_operations\n",
      "Current Directory is: C:\\Users\\guest1\\MSc_Advanced_Programming\\advanced-programming-assessment\n",
      "Config file loaded successfully.\n",
      "Creating database in Postgres.\n",
      "Database already exists:  inspections_db\n",
      "PostgreSQL connection is closed\n",
      "Reading inspections data from raw csv file.\n",
      "Renaming columns of inspections data to standard nomenclature for Postgres.\n",
      "Creating a table in Postgres DB and loading data for inspections.\n",
      "Table successfully created: inspections\n",
      "Data load for inspections data is completed.\n",
      "Reading violations data from raw csv file.\n",
      "Renaming columns of violations data to standard nomenclature for Postgres.\n",
      "Creating a table in Postgres DB and loading data for violations.\n",
      "Table successfully created: violations\n",
      "Data load for violations data is completed.\n",
      "Reading violations data from Postgres DB.\n",
      "Aggregating violations data to get number of violations.\n",
      "Creating a table in Postgres DB and loading data for violations aggregated.\n",
      "Table successfully created: violations_aggregated\n",
      "Data load for violations aggregated data is completed.\n",
      "Reading inspections data from Postgres DB.\n",
      "Reading violations aggregated data from Postgres DB.\n",
      "Joining inspections data and violations aggregated data to get number of violations per facility.\n",
      "Creating a table in Postgres DB and loading data for inspections enriched.\n",
      "Table successfully created: inspections_enriched\n",
      "Data load for inspections enriched data is completed.\n",
      "Data Load process from raw CSVs into PostgresDB completed.\n"
     ]
    },
    {
     "data": {
      "text/plain": [
       "True"
      ]
     },
     "execution_count": 13,
     "metadata": {},
     "output_type": "execute_result"
    }
   ],
   "source": [
    "load_data_day0()"
   ]
  },
  {
   "cell_type": "code",
   "execution_count": null,
   "metadata": {},
   "outputs": [],
   "source": []
  },
  {
   "cell_type": "code",
   "execution_count": null,
   "metadata": {},
   "outputs": [],
   "source": []
  }
 ],
 "metadata": {
  "kernelspec": {
   "display_name": "Python 3",
   "language": "python",
   "name": "python3"
  },
  "language_info": {
   "codemirror_mode": {
    "name": "ipython",
    "version": 3
   },
   "file_extension": ".py",
   "mimetype": "text/x-python",
   "name": "python",
   "nbconvert_exporter": "python",
   "pygments_lexer": "ipython3",
   "version": "3.6.5"
  }
 },
 "nbformat": 4,
 "nbformat_minor": 4
}
