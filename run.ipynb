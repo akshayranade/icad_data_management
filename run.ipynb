{
 "cells": [
  {
   "cell_type": "markdown",
   "metadata": {},
   "source": [
    "***\n",
    "# ICAD Data Management\n",
    "***"
   ]
  },
  {
   "cell_type": "code",
   "execution_count": 1,
   "metadata": {},
   "outputs": [],
   "source": [
    "#Import libraries\n",
    "import os, sys, json\n",
    "import pandas as pd\n",
    "import numpy as np\n",
    "import toml"
   ]
  },
  {
   "cell_type": "code",
   "execution_count": 2,
   "metadata": {},
   "outputs": [],
   "source": [
    "#Set Pandas options\n",
    "pd.set_option('display.max_columns', None)\n",
    "pd.set_option('display.max_colwidth', None)"
   ]
  },
  {
   "cell_type": "code",
   "execution_count": 3,
   "metadata": {},
   "outputs": [
    {
     "data": {
      "text/plain": [
       "'/Users/akshayranade/Documents/Personal/icad_data_management'"
      ]
     },
     "execution_count": 3,
     "metadata": {},
     "output_type": "execute_result"
    }
   ],
   "source": [
    "wdir = os.getcwd()\n",
    "wdir"
   ]
  },
  {
   "cell_type": "code",
   "execution_count": 4,
   "metadata": {},
   "outputs": [],
   "source": [
    "#Change directory to database operations to load all the methods\n",
    "#Import all methods from database_operations\n",
    "from database_operations.create_database_function import create_postgres_db\n",
    "from database_operations.create_df_from_sql_function import create_df_from_sql\n",
    "from database_operations.create_table_from_pandas_df_function import create_table_from_df\n",
    "\n",
    "from data_cleaning.clean_column_names import clean_column_names\n",
    "from data_cleaning.clean_strings import clean_string_data\n",
    "\n",
    "from data_matching.get_master_school import get_standard_school"
   ]
  },
  {
   "cell_type": "code",
   "execution_count": 5,
   "metadata": {},
   "outputs": [
    {
     "name": "stdout",
     "output_type": "stream",
     "text": [
      "{'postgres_credentials': {'username': 'postgres', 'password': '', 'host': '127.0.0.1', 'port': '5432'}, 'db_details': {'dbname': 'icad_db', 'school_master': 'school_master', 'all_students': 'all_students', 'compitative_exams': 'compitative_exams', 'cpa_results': 'cpa_results', 'exam_marks': 'exam_marks', 'admissions': 'admissions'}, 'file_locations': {'all_schools': '/Users/akshayranade/Documents/Personal/icad_data_management/data/sales/activity_report.csv'}}\n"
     ]
    }
   ],
   "source": [
    "# Load config\n",
    "config = toml.load(wdir + \"/config.toml\")\n",
    "print (config)"
   ]
  },
  {
   "cell_type": "code",
   "execution_count": 6,
   "metadata": {},
   "outputs": [
    {
     "name": "stdout",
     "output_type": "stream",
     "text": [
      "Database already exists:  icad_db\n",
      "PostgreSQL connection is closed\n"
     ]
    }
   ],
   "source": [
    "#Create database in postgres called icad_db\n",
    "create_postgres_db(config['postgres_credentials'], config['db_details']['dbname'])"
   ]
  },
  {
   "cell_type": "markdown",
   "metadata": {},
   "source": [
    "\n",
    "***\n",
    "## Load all school data in a table\n",
    "***"
   ]
  },
  {
   "cell_type": "code",
   "execution_count": 7,
   "metadata": {},
   "outputs": [],
   "source": [
    "#Read all schools data from csv\n",
    "all_schools_df = pd.read_csv(config[\"file_locations\"][\"all_schools\"])"
   ]
  },
  {
   "cell_type": "code",
   "execution_count": 8,
   "metadata": {},
   "outputs": [
    {
     "data": {
      "text/html": [
       "<div>\n",
       "<style scoped>\n",
       "    .dataframe tbody tr th:only-of-type {\n",
       "        vertical-align: middle;\n",
       "    }\n",
       "\n",
       "    .dataframe tbody tr th {\n",
       "        vertical-align: top;\n",
       "    }\n",
       "\n",
       "    .dataframe thead th {\n",
       "        text-align: right;\n",
       "    }\n",
       "</style>\n",
       "<table border=\"1\" class=\"dataframe\">\n",
       "  <thead>\n",
       "    <tr style=\"text-align: right;\">\n",
       "      <th></th>\n",
       "      <th>institute_name</th>\n",
       "      <th>address1</th>\n",
       "      <th>address2</th>\n",
       "      <th>city</th>\n",
       "      <th>district</th>\n",
       "      <th>state</th>\n",
       "      <th>board</th>\n",
       "      <th>contact_no</th>\n",
       "      <th>email_address</th>\n",
       "      <th>category</th>\n",
       "      <th>branch_name</th>\n",
       "    </tr>\n",
       "  </thead>\n",
       "  <tbody>\n",
       "    <tr>\n",
       "      <th>0</th>\n",
       "      <td>ABC Convent and High School</td>\n",
       "      <td>Manewada</td>\n",
       "      <td>Manewada</td>\n",
       "      <td>Nagpur</td>\n",
       "      <td>Nagpur</td>\n",
       "      <td>Maharashtra</td>\n",
       "      <td>State</td>\n",
       "      <td>9096300320</td>\n",
       "      <td>NaN</td>\n",
       "      <td>B</td>\n",
       "      <td>EAST CENTRE - NAGPUR</td>\n",
       "    </tr>\n",
       "    <tr>\n",
       "      <th>1</th>\n",
       "      <td>Adarsh Sanskar Vidyalaya Hasanbagh</td>\n",
       "      <td>Hasanbagh</td>\n",
       "      <td>Hasanbagh</td>\n",
       "      <td>Nagpur</td>\n",
       "      <td>Nagpur</td>\n",
       "      <td>Maharashtra</td>\n",
       "      <td>State</td>\n",
       "      <td>NaN</td>\n",
       "      <td>NaN</td>\n",
       "      <td>B</td>\n",
       "      <td>EAST CENTRE - NAGPUR</td>\n",
       "    </tr>\n",
       "    <tr>\n",
       "      <th>2</th>\n",
       "      <td>Adarsh Sanskar Vidyalaya CBSE Hudkeshwar</td>\n",
       "      <td>Hudkeshwar</td>\n",
       "      <td>Hudkeshwar</td>\n",
       "      <td>Nagpur</td>\n",
       "      <td>Nagpur</td>\n",
       "      <td>Maharashtra</td>\n",
       "      <td>State</td>\n",
       "      <td>7620264605</td>\n",
       "      <td>NaN</td>\n",
       "      <td>B</td>\n",
       "      <td>EAST CENTRE - NAGPUR</td>\n",
       "    </tr>\n",
       "    <tr>\n",
       "      <th>3</th>\n",
       "      <td>Adarsh Vidya Mandir</td>\n",
       "      <td>CA Road</td>\n",
       "      <td>CA Road</td>\n",
       "      <td>Nagpur</td>\n",
       "      <td>Nagpur</td>\n",
       "      <td>Maharashtra</td>\n",
       "      <td>State</td>\n",
       "      <td>NaN</td>\n",
       "      <td>NaN</td>\n",
       "      <td>B</td>\n",
       "      <td>EAST CENTRE - NAGPUR</td>\n",
       "    </tr>\n",
       "    <tr>\n",
       "      <th>4</th>\n",
       "      <td>Adarsh Vidyalaya</td>\n",
       "      <td>Umrer</td>\n",
       "      <td>Umrer</td>\n",
       "      <td>Umred</td>\n",
       "      <td>Nagpur</td>\n",
       "      <td>Maharashtra</td>\n",
       "      <td>State</td>\n",
       "      <td>NaN</td>\n",
       "      <td>NaN</td>\n",
       "      <td>B</td>\n",
       "      <td>EAST CENTRE - NAGPUR</td>\n",
       "    </tr>\n",
       "    <tr>\n",
       "      <th>5</th>\n",
       "      <td>Amit High School</td>\n",
       "      <td>Dighori</td>\n",
       "      <td>Dighori</td>\n",
       "      <td>Nagpur</td>\n",
       "      <td>Nagpur</td>\n",
       "      <td>Maharashtra</td>\n",
       "      <td>State</td>\n",
       "      <td>NaN</td>\n",
       "      <td>NaN</td>\n",
       "      <td>C</td>\n",
       "      <td>EAST CENTRE - NAGPUR</td>\n",
       "    </tr>\n",
       "    <tr>\n",
       "      <th>6</th>\n",
       "      <td>Ankush Classes</td>\n",
       "      <td>Near dada Saheb thakre High School ; Aashirwaad Nagar  Hudkeshwar Sq</td>\n",
       "      <td>Aashirwaad Nagar</td>\n",
       "      <td>Nagpur</td>\n",
       "      <td>Nagpur</td>\n",
       "      <td>Maharashtra</td>\n",
       "      <td>State</td>\n",
       "      <td>9881015403</td>\n",
       "      <td>noid@emailid.com</td>\n",
       "      <td>B</td>\n",
       "      <td>EAST CENTRE - NAGPUR</td>\n",
       "    </tr>\n",
       "    <tr>\n",
       "      <th>7</th>\n",
       "      <td>Ashok Kanya Vidyalaya</td>\n",
       "      <td>Umrer</td>\n",
       "      <td>Umrer</td>\n",
       "      <td>Umred</td>\n",
       "      <td>Nagpur</td>\n",
       "      <td>Maharashtra</td>\n",
       "      <td>State</td>\n",
       "      <td>NaN</td>\n",
       "      <td>NaN</td>\n",
       "      <td>C</td>\n",
       "      <td>EAST CENTRE - NAGPUR</td>\n",
       "    </tr>\n",
       "    <tr>\n",
       "      <th>8</th>\n",
       "      <td>Ashok Vidyalaya   Boys</td>\n",
       "      <td>Umrer</td>\n",
       "      <td>Umrer</td>\n",
       "      <td>Umred</td>\n",
       "      <td>Nagpur</td>\n",
       "      <td>Maharashtra</td>\n",
       "      <td>State</td>\n",
       "      <td>NaN</td>\n",
       "      <td>NaN</td>\n",
       "      <td>C</td>\n",
       "      <td>EAST CENTRE - NAGPUR</td>\n",
       "    </tr>\n",
       "    <tr>\n",
       "      <th>9</th>\n",
       "      <td>Baba Nanak Sidhi Hindi High School</td>\n",
       "      <td>Nandanwan</td>\n",
       "      <td>Nandanwan</td>\n",
       "      <td>Nagpur</td>\n",
       "      <td>Nagpur</td>\n",
       "      <td>Maharashtra</td>\n",
       "      <td>State</td>\n",
       "      <td>7122764288</td>\n",
       "      <td>babananaksindhihindihs@gmail.com</td>\n",
       "      <td>C</td>\n",
       "      <td>EAST CENTRE - NAGPUR</td>\n",
       "    </tr>\n",
       "  </tbody>\n",
       "</table>\n",
       "</div>"
      ],
      "text/plain": [
       "                             institute_name  \\\n",
       "0               ABC Convent and High School   \n",
       "1        Adarsh Sanskar Vidyalaya Hasanbagh   \n",
       "2  Adarsh Sanskar Vidyalaya CBSE Hudkeshwar   \n",
       "3                      Adarsh Vidya Mandir    \n",
       "4                          Adarsh Vidyalaya   \n",
       "5                          Amit High School   \n",
       "6                            Ankush Classes   \n",
       "7                     Ashok Kanya Vidyalaya   \n",
       "8                    Ashok Vidyalaya   Boys   \n",
       "9        Baba Nanak Sidhi Hindi High School   \n",
       "\n",
       "                                                               address1  \\\n",
       "0                                                              Manewada   \n",
       "1                                                             Hasanbagh   \n",
       "2                                                           Hudkeshwar    \n",
       "3                                                               CA Road   \n",
       "4                                                                 Umrer   \n",
       "5                                                               Dighori   \n",
       "6  Near dada Saheb thakre High School ; Aashirwaad Nagar  Hudkeshwar Sq   \n",
       "7                                                                 Umrer   \n",
       "8                                                                 Umrer   \n",
       "9                                                             Nandanwan   \n",
       "\n",
       "           address2    city  district        state  board  contact_no  \\\n",
       "0          Manewada  Nagpur    Nagpur  Maharashtra  State  9096300320   \n",
       "1         Hasanbagh  Nagpur    Nagpur  Maharashtra  State         NaN   \n",
       "2       Hudkeshwar   Nagpur    Nagpur  Maharashtra  State  7620264605   \n",
       "3           CA Road  Nagpur    Nagpur  Maharashtra  State         NaN   \n",
       "4             Umrer   Umred    Nagpur  Maharashtra  State         NaN   \n",
       "5           Dighori  Nagpur    Nagpur  Maharashtra  State         NaN   \n",
       "6  Aashirwaad Nagar  Nagpur    Nagpur  Maharashtra  State  9881015403   \n",
       "7             Umrer   Umred    Nagpur  Maharashtra  State         NaN   \n",
       "8             Umrer   Umred    Nagpur  Maharashtra  State         NaN   \n",
       "9         Nandanwan  Nagpur    Nagpur  Maharashtra  State  7122764288   \n",
       "\n",
       "                      email_address category           branch_name  \n",
       "0                               NaN        B  EAST CENTRE - NAGPUR  \n",
       "1                               NaN        B  EAST CENTRE - NAGPUR  \n",
       "2                               NaN        B  EAST CENTRE - NAGPUR  \n",
       "3                               NaN        B  EAST CENTRE - NAGPUR  \n",
       "4                               NaN        B  EAST CENTRE - NAGPUR  \n",
       "5                               NaN        C  EAST CENTRE - NAGPUR  \n",
       "6                  noid@emailid.com        B  EAST CENTRE - NAGPUR  \n",
       "7                               NaN        C  EAST CENTRE - NAGPUR  \n",
       "8                               NaN        C  EAST CENTRE - NAGPUR  \n",
       "9  babananaksindhihindihs@gmail.com        C  EAST CENTRE - NAGPUR  "
      ]
     },
     "execution_count": 8,
     "metadata": {},
     "output_type": "execute_result"
    }
   ],
   "source": [
    "all_schools_df.head(10)"
   ]
  },
  {
   "cell_type": "code",
   "execution_count": 9,
   "metadata": {},
   "outputs": [
    {
     "data": {
      "text/plain": [
       "institute_name    object\n",
       " address1         object\n",
       " address2         object\n",
       " city             object\n",
       " district         object\n",
       " state            object\n",
       " board            object\n",
       " contact_no       object\n",
       " email_address    object\n",
       "category          object\n",
       "branch_name       object\n",
       "dtype: object"
      ]
     },
     "execution_count": 9,
     "metadata": {},
     "output_type": "execute_result"
    }
   ],
   "source": [
    "all_schools_df.dtypes"
   ]
  },
  {
   "cell_type": "code",
   "execution_count": 10,
   "metadata": {},
   "outputs": [
    {
     "data": {
      "text/plain": [
       "Index(['institute_name', ' address1', ' address2', ' city', ' district',\n",
       "       ' state', ' board', ' contact_no', ' email_address', 'category',\n",
       "       'branch_name'],\n",
       "      dtype='object')"
      ]
     },
     "execution_count": 10,
     "metadata": {},
     "output_type": "execute_result"
    }
   ],
   "source": [
    "all_schools_df.columns"
   ]
  },
  {
   "cell_type": "code",
   "execution_count": 11,
   "metadata": {},
   "outputs": [],
   "source": [
    "#Clean column names\n",
    "all_schools_df = clean_column_names(all_schools_df)"
   ]
  },
  {
   "cell_type": "code",
   "execution_count": 12,
   "metadata": {},
   "outputs": [
    {
     "data": {
      "text/plain": [
       "Index(['institute_name', 'address1', 'address2', 'city', 'district', 'state',\n",
       "       'board', 'contact_no', 'email_address', 'category', 'branch_name'],\n",
       "      dtype='object')"
      ]
     },
     "execution_count": 12,
     "metadata": {},
     "output_type": "execute_result"
    }
   ],
   "source": [
    "all_schools_df.columns"
   ]
  },
  {
   "cell_type": "code",
   "execution_count": 13,
   "metadata": {},
   "outputs": [],
   "source": [
    "#Clean school names, addresses\n",
    "all_schools_df['institute_name'] = all_schools_df['institute_name'].apply(lambda x: clean_string_data(x))\n",
    "all_schools_df['address1'] = all_schools_df['address1'].apply(lambda x: clean_string_data(x))\n",
    "all_schools_df['address2'] = all_schools_df['address2'].apply(lambda x: clean_string_data(x))\n",
    "all_schools_df['address2'] = all_schools_df['address2'].apply(lambda x: clean_string_data(x))\n",
    "all_schools_df['city'] = all_schools_df['city'].apply(lambda x: clean_string_data(x))\n",
    "all_schools_df['state'] = all_schools_df['state'].apply(lambda x: clean_string_data(x))"
   ]
  },
  {
   "cell_type": "code",
   "execution_count": 14,
   "metadata": {},
   "outputs": [
    {
     "data": {
      "text/html": [
       "<div>\n",
       "<style scoped>\n",
       "    .dataframe tbody tr th:only-of-type {\n",
       "        vertical-align: middle;\n",
       "    }\n",
       "\n",
       "    .dataframe tbody tr th {\n",
       "        vertical-align: top;\n",
       "    }\n",
       "\n",
       "    .dataframe thead th {\n",
       "        text-align: right;\n",
       "    }\n",
       "</style>\n",
       "<table border=\"1\" class=\"dataframe\">\n",
       "  <thead>\n",
       "    <tr style=\"text-align: right;\">\n",
       "      <th></th>\n",
       "      <th>institute_name</th>\n",
       "      <th>address1</th>\n",
       "      <th>address2</th>\n",
       "      <th>city</th>\n",
       "      <th>district</th>\n",
       "      <th>state</th>\n",
       "      <th>board</th>\n",
       "      <th>contact_no</th>\n",
       "      <th>email_address</th>\n",
       "      <th>category</th>\n",
       "      <th>branch_name</th>\n",
       "    </tr>\n",
       "  </thead>\n",
       "  <tbody>\n",
       "    <tr>\n",
       "      <th>0</th>\n",
       "      <td>ABC CONVENT AND HIGH SCHOOL</td>\n",
       "      <td>MANEWADA</td>\n",
       "      <td>MANEWADA</td>\n",
       "      <td>NAGPUR</td>\n",
       "      <td>Nagpur</td>\n",
       "      <td>MAHARASHTRA</td>\n",
       "      <td>State</td>\n",
       "      <td>9096300320</td>\n",
       "      <td>NaN</td>\n",
       "      <td>B</td>\n",
       "      <td>EAST CENTRE - NAGPUR</td>\n",
       "    </tr>\n",
       "    <tr>\n",
       "      <th>1</th>\n",
       "      <td>ADARSH SANSKAR VIDYALAYA HASANBAGH</td>\n",
       "      <td>HASANBAGH</td>\n",
       "      <td>HASANBAGH</td>\n",
       "      <td>NAGPUR</td>\n",
       "      <td>Nagpur</td>\n",
       "      <td>MAHARASHTRA</td>\n",
       "      <td>State</td>\n",
       "      <td>NaN</td>\n",
       "      <td>NaN</td>\n",
       "      <td>B</td>\n",
       "      <td>EAST CENTRE - NAGPUR</td>\n",
       "    </tr>\n",
       "    <tr>\n",
       "      <th>2</th>\n",
       "      <td>ADARSH SANSKAR VIDYALAYA CBSE HUDKESHWAR</td>\n",
       "      <td>HUDKESHWAR</td>\n",
       "      <td>HUDKESHWAR</td>\n",
       "      <td>NAGPUR</td>\n",
       "      <td>Nagpur</td>\n",
       "      <td>MAHARASHTRA</td>\n",
       "      <td>State</td>\n",
       "      <td>7620264605</td>\n",
       "      <td>NaN</td>\n",
       "      <td>B</td>\n",
       "      <td>EAST CENTRE - NAGPUR</td>\n",
       "    </tr>\n",
       "    <tr>\n",
       "      <th>3</th>\n",
       "      <td>ADARSH VIDYA MANDIR</td>\n",
       "      <td>CA ROAD</td>\n",
       "      <td>CA ROAD</td>\n",
       "      <td>NAGPUR</td>\n",
       "      <td>Nagpur</td>\n",
       "      <td>MAHARASHTRA</td>\n",
       "      <td>State</td>\n",
       "      <td>NaN</td>\n",
       "      <td>NaN</td>\n",
       "      <td>B</td>\n",
       "      <td>EAST CENTRE - NAGPUR</td>\n",
       "    </tr>\n",
       "    <tr>\n",
       "      <th>4</th>\n",
       "      <td>ADARSH VIDYALAYA</td>\n",
       "      <td>UMRER</td>\n",
       "      <td>UMRER</td>\n",
       "      <td>UMRED</td>\n",
       "      <td>Nagpur</td>\n",
       "      <td>MAHARASHTRA</td>\n",
       "      <td>State</td>\n",
       "      <td>NaN</td>\n",
       "      <td>NaN</td>\n",
       "      <td>B</td>\n",
       "      <td>EAST CENTRE - NAGPUR</td>\n",
       "    </tr>\n",
       "  </tbody>\n",
       "</table>\n",
       "</div>"
      ],
      "text/plain": [
       "                             institute_name    address1    address2    city  \\\n",
       "0               ABC CONVENT AND HIGH SCHOOL    MANEWADA    MANEWADA  NAGPUR   \n",
       "1        ADARSH SANSKAR VIDYALAYA HASANBAGH   HASANBAGH   HASANBAGH  NAGPUR   \n",
       "2  ADARSH SANSKAR VIDYALAYA CBSE HUDKESHWAR  HUDKESHWAR  HUDKESHWAR  NAGPUR   \n",
       "3                       ADARSH VIDYA MANDIR     CA ROAD     CA ROAD  NAGPUR   \n",
       "4                          ADARSH VIDYALAYA       UMRER       UMRER   UMRED   \n",
       "\n",
       "  district        state  board  contact_no email_address category  \\\n",
       "0   Nagpur  MAHARASHTRA  State  9096300320           NaN        B   \n",
       "1   Nagpur  MAHARASHTRA  State         NaN           NaN        B   \n",
       "2   Nagpur  MAHARASHTRA  State  7620264605           NaN        B   \n",
       "3   Nagpur  MAHARASHTRA  State         NaN           NaN        B   \n",
       "4   Nagpur  MAHARASHTRA  State         NaN           NaN        B   \n",
       "\n",
       "            branch_name  \n",
       "0  EAST CENTRE - NAGPUR  \n",
       "1  EAST CENTRE - NAGPUR  \n",
       "2  EAST CENTRE - NAGPUR  \n",
       "3  EAST CENTRE - NAGPUR  \n",
       "4  EAST CENTRE - NAGPUR  "
      ]
     },
     "execution_count": 14,
     "metadata": {},
     "output_type": "execute_result"
    }
   ],
   "source": [
    "all_schools_df.head()"
   ]
  },
  {
   "cell_type": "code",
   "execution_count": 15,
   "metadata": {},
   "outputs": [],
   "source": [
    "# Define unique identifier for a school\n",
    "all_schools_ids = all_schools_df.rename_axis('school_id').reset_index()\n",
    "all_schools_ids['school_id'] = all_schools_ids['school_id'] + 1000"
   ]
  },
  {
   "cell_type": "code",
   "execution_count": 16,
   "metadata": {},
   "outputs": [
    {
     "data": {
      "text/html": [
       "<div>\n",
       "<style scoped>\n",
       "    .dataframe tbody tr th:only-of-type {\n",
       "        vertical-align: middle;\n",
       "    }\n",
       "\n",
       "    .dataframe tbody tr th {\n",
       "        vertical-align: top;\n",
       "    }\n",
       "\n",
       "    .dataframe thead th {\n",
       "        text-align: right;\n",
       "    }\n",
       "</style>\n",
       "<table border=\"1\" class=\"dataframe\">\n",
       "  <thead>\n",
       "    <tr style=\"text-align: right;\">\n",
       "      <th></th>\n",
       "      <th>school_id</th>\n",
       "      <th>institute_name</th>\n",
       "      <th>address1</th>\n",
       "      <th>address2</th>\n",
       "      <th>city</th>\n",
       "      <th>district</th>\n",
       "      <th>state</th>\n",
       "      <th>board</th>\n",
       "      <th>contact_no</th>\n",
       "      <th>email_address</th>\n",
       "      <th>category</th>\n",
       "      <th>branch_name</th>\n",
       "    </tr>\n",
       "  </thead>\n",
       "  <tbody>\n",
       "    <tr>\n",
       "      <th>0</th>\n",
       "      <td>1000</td>\n",
       "      <td>ABC CONVENT AND HIGH SCHOOL</td>\n",
       "      <td>MANEWADA</td>\n",
       "      <td>MANEWADA</td>\n",
       "      <td>NAGPUR</td>\n",
       "      <td>Nagpur</td>\n",
       "      <td>MAHARASHTRA</td>\n",
       "      <td>State</td>\n",
       "      <td>9096300320</td>\n",
       "      <td>NaN</td>\n",
       "      <td>B</td>\n",
       "      <td>EAST CENTRE - NAGPUR</td>\n",
       "    </tr>\n",
       "    <tr>\n",
       "      <th>1</th>\n",
       "      <td>1001</td>\n",
       "      <td>ADARSH SANSKAR VIDYALAYA HASANBAGH</td>\n",
       "      <td>HASANBAGH</td>\n",
       "      <td>HASANBAGH</td>\n",
       "      <td>NAGPUR</td>\n",
       "      <td>Nagpur</td>\n",
       "      <td>MAHARASHTRA</td>\n",
       "      <td>State</td>\n",
       "      <td>NaN</td>\n",
       "      <td>NaN</td>\n",
       "      <td>B</td>\n",
       "      <td>EAST CENTRE - NAGPUR</td>\n",
       "    </tr>\n",
       "    <tr>\n",
       "      <th>2</th>\n",
       "      <td>1002</td>\n",
       "      <td>ADARSH SANSKAR VIDYALAYA CBSE HUDKESHWAR</td>\n",
       "      <td>HUDKESHWAR</td>\n",
       "      <td>HUDKESHWAR</td>\n",
       "      <td>NAGPUR</td>\n",
       "      <td>Nagpur</td>\n",
       "      <td>MAHARASHTRA</td>\n",
       "      <td>State</td>\n",
       "      <td>7620264605</td>\n",
       "      <td>NaN</td>\n",
       "      <td>B</td>\n",
       "      <td>EAST CENTRE - NAGPUR</td>\n",
       "    </tr>\n",
       "    <tr>\n",
       "      <th>3</th>\n",
       "      <td>1003</td>\n",
       "      <td>ADARSH VIDYA MANDIR</td>\n",
       "      <td>CA ROAD</td>\n",
       "      <td>CA ROAD</td>\n",
       "      <td>NAGPUR</td>\n",
       "      <td>Nagpur</td>\n",
       "      <td>MAHARASHTRA</td>\n",
       "      <td>State</td>\n",
       "      <td>NaN</td>\n",
       "      <td>NaN</td>\n",
       "      <td>B</td>\n",
       "      <td>EAST CENTRE - NAGPUR</td>\n",
       "    </tr>\n",
       "    <tr>\n",
       "      <th>4</th>\n",
       "      <td>1004</td>\n",
       "      <td>ADARSH VIDYALAYA</td>\n",
       "      <td>UMRER</td>\n",
       "      <td>UMRER</td>\n",
       "      <td>UMRED</td>\n",
       "      <td>Nagpur</td>\n",
       "      <td>MAHARASHTRA</td>\n",
       "      <td>State</td>\n",
       "      <td>NaN</td>\n",
       "      <td>NaN</td>\n",
       "      <td>B</td>\n",
       "      <td>EAST CENTRE - NAGPUR</td>\n",
       "    </tr>\n",
       "  </tbody>\n",
       "</table>\n",
       "</div>"
      ],
      "text/plain": [
       "   school_id                            institute_name    address1  \\\n",
       "0       1000               ABC CONVENT AND HIGH SCHOOL    MANEWADA   \n",
       "1       1001        ADARSH SANSKAR VIDYALAYA HASANBAGH   HASANBAGH   \n",
       "2       1002  ADARSH SANSKAR VIDYALAYA CBSE HUDKESHWAR  HUDKESHWAR   \n",
       "3       1003                       ADARSH VIDYA MANDIR     CA ROAD   \n",
       "4       1004                          ADARSH VIDYALAYA       UMRER   \n",
       "\n",
       "     address2    city district        state  board  contact_no email_address  \\\n",
       "0    MANEWADA  NAGPUR   Nagpur  MAHARASHTRA  State  9096300320           NaN   \n",
       "1   HASANBAGH  NAGPUR   Nagpur  MAHARASHTRA  State         NaN           NaN   \n",
       "2  HUDKESHWAR  NAGPUR   Nagpur  MAHARASHTRA  State  7620264605           NaN   \n",
       "3     CA ROAD  NAGPUR   Nagpur  MAHARASHTRA  State         NaN           NaN   \n",
       "4       UMRER   UMRED   Nagpur  MAHARASHTRA  State         NaN           NaN   \n",
       "\n",
       "  category           branch_name  \n",
       "0        B  EAST CENTRE - NAGPUR  \n",
       "1        B  EAST CENTRE - NAGPUR  \n",
       "2        B  EAST CENTRE - NAGPUR  \n",
       "3        B  EAST CENTRE - NAGPUR  \n",
       "4        B  EAST CENTRE - NAGPUR  "
      ]
     },
     "execution_count": 16,
     "metadata": {},
     "output_type": "execute_result"
    }
   ],
   "source": [
    "all_schools_ids.head()"
   ]
  },
  {
   "cell_type": "code",
   "execution_count": 17,
   "metadata": {},
   "outputs": [
    {
     "name": "stdout",
     "output_type": "stream",
     "text": [
      "Table successfully created: school_master\n"
     ]
    }
   ],
   "source": [
    "#Create a table for all schools using a generic function\n",
    "create_table_from_df(config['postgres_credentials'], config['db_details']['dbname'], config['db_details']['school_master'], all_schools_ids)"
   ]
  },
  {
   "cell_type": "markdown",
   "metadata": {},
   "source": [
    "***\n",
    "## Read all students data from various sheets, collate it to create a student master table\n",
    "\n",
    "1. Student master table will have student name, school name and a unique student id\n",
    "2. Even if same student appears in different sheets, their information will be captured only once in the student_master table\n",
    "3. School names to be standardised based on the school_master table\n",
    "***"
   ]
  },
  {
   "cell_type": "markdown",
   "metadata": {},
   "source": [
    "## 1. LEAP data"
   ]
  },
  {
   "cell_type": "code",
   "execution_count": 18,
   "metadata": {},
   "outputs": [],
   "source": [
    "# Load the Leap data\n",
    "leap_data_df = pd.read_excel('/Users/akshayranade/Documents/Personal/icad_data_management/data/sales/1. 8, 9, 10, 11 Moving All Data.xlsx', '7,8,9,10- Leap 2023-24')"
   ]
  },
  {
   "cell_type": "code",
   "execution_count": 19,
   "metadata": {},
   "outputs": [
    {
     "data": {
      "text/html": [
       "<div>\n",
       "<style scoped>\n",
       "    .dataframe tbody tr th:only-of-type {\n",
       "        vertical-align: middle;\n",
       "    }\n",
       "\n",
       "    .dataframe tbody tr th {\n",
       "        vertical-align: top;\n",
       "    }\n",
       "\n",
       "    .dataframe thead th {\n",
       "        text-align: right;\n",
       "    }\n",
       "</style>\n",
       "<table border=\"1\" class=\"dataframe\">\n",
       "  <thead>\n",
       "    <tr style=\"text-align: right;\">\n",
       "      <th></th>\n",
       "      <th>Roll No</th>\n",
       "      <th>Student Name</th>\n",
       "      <th>City</th>\n",
       "      <th>Mobile 1</th>\n",
       "      <th>Mobile 2</th>\n",
       "      <th>School</th>\n",
       "      <th>Class</th>\n",
       "    </tr>\n",
       "  </thead>\n",
       "  <tbody>\n",
       "    <tr>\n",
       "      <th>0</th>\n",
       "      <td>121574</td>\n",
       "      <td>Sidhant Bobade</td>\n",
       "      <td>Amravati Centre</td>\n",
       "      <td>NaN</td>\n",
       "      <td>NaN</td>\n",
       "      <td>Dnyanmata High School Camp road, near IMA hall, Amravati</td>\n",
       "      <td>7th</td>\n",
       "    </tr>\n",
       "    <tr>\n",
       "      <th>1</th>\n",
       "      <td>117785</td>\n",
       "      <td>Parth Bonde</td>\n",
       "      <td>Amravati Centre</td>\n",
       "      <td>NaN</td>\n",
       "      <td>NaN</td>\n",
       "      <td>K.K. Cambridge School, Amravati</td>\n",
       "      <td>7th</td>\n",
       "    </tr>\n",
       "    <tr>\n",
       "      <th>2</th>\n",
       "      <td>122267</td>\n",
       "      <td>Ninad Matkar</td>\n",
       "      <td>Amravati Centre</td>\n",
       "      <td>NaN</td>\n",
       "      <td>NaN</td>\n",
       "      <td>Orchid City International School, Amravati</td>\n",
       "      <td>7th</td>\n",
       "    </tr>\n",
       "    <tr>\n",
       "      <th>3</th>\n",
       "      <td>121575</td>\n",
       "      <td>Rachit Ravi Tayade</td>\n",
       "      <td>Amravati Centre</td>\n",
       "      <td>NaN</td>\n",
       "      <td>NaN</td>\n",
       "      <td>Dnyanmata High School Camp road, near IMA hall, Amravati</td>\n",
       "      <td>7th</td>\n",
       "    </tr>\n",
       "    <tr>\n",
       "      <th>4</th>\n",
       "      <td>117780</td>\n",
       "      <td>Pranjal P Kantute</td>\n",
       "      <td>Amravati Centre</td>\n",
       "      <td>NaN</td>\n",
       "      <td>NaN</td>\n",
       "      <td>K.K. Cambridge School, Amravati</td>\n",
       "      <td>7th</td>\n",
       "    </tr>\n",
       "  </tbody>\n",
       "</table>\n",
       "</div>"
      ],
      "text/plain": [
       "  Roll No        Student Name             City  Mobile 1  Mobile 2  \\\n",
       "0  121574      Sidhant Bobade  Amravati Centre       NaN       NaN   \n",
       "1  117785         Parth Bonde  Amravati Centre       NaN       NaN   \n",
       "2  122267        Ninad Matkar  Amravati Centre       NaN       NaN   \n",
       "3  121575  Rachit Ravi Tayade  Amravati Centre       NaN       NaN   \n",
       "4  117780   Pranjal P Kantute  Amravati Centre       NaN       NaN   \n",
       "\n",
       "                                                     School Class  \n",
       "0  Dnyanmata High School Camp road, near IMA hall, Amravati   7th  \n",
       "1                           K.K. Cambridge School, Amravati   7th  \n",
       "2                Orchid City International School, Amravati   7th  \n",
       "3  Dnyanmata High School Camp road, near IMA hall, Amravati   7th  \n",
       "4                           K.K. Cambridge School, Amravati   7th  "
      ]
     },
     "execution_count": 19,
     "metadata": {},
     "output_type": "execute_result"
    }
   ],
   "source": [
    "leap_data_df.head()"
   ]
  },
  {
   "cell_type": "code",
   "execution_count": 20,
   "metadata": {},
   "outputs": [],
   "source": [
    "#Clean column names\n",
    "leap_data_df = clean_column_names(leap_data_df)"
   ]
  },
  {
   "cell_type": "code",
   "execution_count": 24,
   "metadata": {},
   "outputs": [],
   "source": [
    "leap_data_df['school'] = leap_data_df['school'].apply(lambda x: str(x).replace(',', ' '))"
   ]
  },
  {
   "cell_type": "code",
   "execution_count": 25,
   "metadata": {},
   "outputs": [],
   "source": [
    "#Clean student names, school names, class\n",
    "leap_data_df['student_name'] = leap_data_df['student_name'].apply(lambda x: clean_string_data(x))\n",
    "leap_data_df['city'] = leap_data_df['city'].apply(lambda x: clean_string_data(x))\n",
    "leap_data_df['school'] = leap_data_df['school'].apply(lambda x: clean_string_data(x))\n",
    "leap_data_df['class'] = leap_data_df['class'].apply(lambda x: str(x).replace('th', '')).astype(int)"
   ]
  },
  {
   "cell_type": "code",
   "execution_count": 26,
   "metadata": {},
   "outputs": [
    {
     "data": {
      "text/html": [
       "<div>\n",
       "<style scoped>\n",
       "    .dataframe tbody tr th:only-of-type {\n",
       "        vertical-align: middle;\n",
       "    }\n",
       "\n",
       "    .dataframe tbody tr th {\n",
       "        vertical-align: top;\n",
       "    }\n",
       "\n",
       "    .dataframe thead th {\n",
       "        text-align: right;\n",
       "    }\n",
       "</style>\n",
       "<table border=\"1\" class=\"dataframe\">\n",
       "  <thead>\n",
       "    <tr style=\"text-align: right;\">\n",
       "      <th></th>\n",
       "      <th>roll_no</th>\n",
       "      <th>student_name</th>\n",
       "      <th>city</th>\n",
       "      <th>mobile_1</th>\n",
       "      <th>mobile_2</th>\n",
       "      <th>school</th>\n",
       "      <th>class</th>\n",
       "    </tr>\n",
       "  </thead>\n",
       "  <tbody>\n",
       "    <tr>\n",
       "      <th>0</th>\n",
       "      <td>121574</td>\n",
       "      <td>SIDHANT BOBADE</td>\n",
       "      <td>AMRAVATI CENTRE</td>\n",
       "      <td>NaN</td>\n",
       "      <td>NaN</td>\n",
       "      <td>DNYANMATA HIGH SCHOOL CAMP ROAD NEAR IMA HALL AMRAVATI</td>\n",
       "      <td>7</td>\n",
       "    </tr>\n",
       "    <tr>\n",
       "      <th>1</th>\n",
       "      <td>117785</td>\n",
       "      <td>PARTH BONDE</td>\n",
       "      <td>AMRAVATI CENTRE</td>\n",
       "      <td>NaN</td>\n",
       "      <td>NaN</td>\n",
       "      <td>KK CAMBRIDGE SCHOOL AMRAVATI</td>\n",
       "      <td>7</td>\n",
       "    </tr>\n",
       "    <tr>\n",
       "      <th>2</th>\n",
       "      <td>122267</td>\n",
       "      <td>NINAD MATKAR</td>\n",
       "      <td>AMRAVATI CENTRE</td>\n",
       "      <td>NaN</td>\n",
       "      <td>NaN</td>\n",
       "      <td>ORCHID CITY INTERNATIONAL SCHOOL AMRAVATI</td>\n",
       "      <td>7</td>\n",
       "    </tr>\n",
       "    <tr>\n",
       "      <th>3</th>\n",
       "      <td>121575</td>\n",
       "      <td>RACHIT RAVI TAYADE</td>\n",
       "      <td>AMRAVATI CENTRE</td>\n",
       "      <td>NaN</td>\n",
       "      <td>NaN</td>\n",
       "      <td>DNYANMATA HIGH SCHOOL CAMP ROAD NEAR IMA HALL AMRAVATI</td>\n",
       "      <td>7</td>\n",
       "    </tr>\n",
       "    <tr>\n",
       "      <th>4</th>\n",
       "      <td>117780</td>\n",
       "      <td>PRANJAL P KANTUTE</td>\n",
       "      <td>AMRAVATI CENTRE</td>\n",
       "      <td>NaN</td>\n",
       "      <td>NaN</td>\n",
       "      <td>KK CAMBRIDGE SCHOOL AMRAVATI</td>\n",
       "      <td>7</td>\n",
       "    </tr>\n",
       "  </tbody>\n",
       "</table>\n",
       "</div>"
      ],
      "text/plain": [
       "  roll_no        student_name             city  mobile_1  mobile_2  \\\n",
       "0  121574      SIDHANT BOBADE  AMRAVATI CENTRE       NaN       NaN   \n",
       "1  117785         PARTH BONDE  AMRAVATI CENTRE       NaN       NaN   \n",
       "2  122267        NINAD MATKAR  AMRAVATI CENTRE       NaN       NaN   \n",
       "3  121575  RACHIT RAVI TAYADE  AMRAVATI CENTRE       NaN       NaN   \n",
       "4  117780   PRANJAL P KANTUTE  AMRAVATI CENTRE       NaN       NaN   \n",
       "\n",
       "                                                   school  class  \n",
       "0  DNYANMATA HIGH SCHOOL CAMP ROAD NEAR IMA HALL AMRAVATI      7  \n",
       "1                            KK CAMBRIDGE SCHOOL AMRAVATI      7  \n",
       "2               ORCHID CITY INTERNATIONAL SCHOOL AMRAVATI      7  \n",
       "3  DNYANMATA HIGH SCHOOL CAMP ROAD NEAR IMA HALL AMRAVATI      7  \n",
       "4                            KK CAMBRIDGE SCHOOL AMRAVATI      7  "
      ]
     },
     "execution_count": 26,
     "metadata": {},
     "output_type": "execute_result"
    }
   ],
   "source": [
    "leap_data_df.head()"
   ]
  },
  {
   "cell_type": "code",
   "execution_count": 27,
   "metadata": {},
   "outputs": [
    {
     "data": {
      "text/plain": [
       "class\n",
       "10    20317\n",
       "9      7330\n",
       "8      4503\n",
       "7      4034\n",
       "Name: count, dtype: int64"
      ]
     },
     "execution_count": 27,
     "metadata": {},
     "output_type": "execute_result"
    }
   ],
   "source": [
    "leap_data_df.value_counts('class')"
   ]
  },
  {
   "cell_type": "code",
   "execution_count": 28,
   "metadata": {},
   "outputs": [
    {
     "data": {
      "text/plain": [
       "36184"
      ]
     },
     "execution_count": 28,
     "metadata": {},
     "output_type": "execute_result"
    }
   ],
   "source": [
    "leap_data_df.shape[0]"
   ]
  },
  {
   "cell_type": "code",
   "execution_count": 29,
   "metadata": {},
   "outputs": [],
   "source": [
    "#Read the school_master table\n",
    "school_master = create_df_from_sql(connection_config=config['postgres_credentials'], dbname='icad_db', tbname='school_master')"
   ]
  },
  {
   "cell_type": "code",
   "execution_count": 30,
   "metadata": {},
   "outputs": [],
   "source": [
    "#Get standard school names & ID's \n",
    "leap_data_df['standard_school_name'] = leap_data_df['school'].apply(lambda x: get_standard_school(x, school_master)[0])\n",
    "leap_data_df['standard_school_addr'] = leap_data_df['school'].apply(lambda x: get_standard_school(x, school_master)[1])\n",
    "leap_data_df['standard_school_city'] = leap_data_df['school'].apply(lambda x: get_standard_school(x, school_master)[2])\n",
    "leap_data_df['standard_school_id'] = leap_data_df['school'].apply(lambda x: get_standard_school(x, school_master)[3])"
   ]
  },
  {
   "cell_type": "code",
   "execution_count": 31,
   "metadata": {},
   "outputs": [],
   "source": [
    "leap_data_df['year'] = '2023-24'"
   ]
  },
  {
   "cell_type": "code",
   "execution_count": 32,
   "metadata": {},
   "outputs": [
    {
     "data": {
      "text/html": [
       "<div>\n",
       "<style scoped>\n",
       "    .dataframe tbody tr th:only-of-type {\n",
       "        vertical-align: middle;\n",
       "    }\n",
       "\n",
       "    .dataframe tbody tr th {\n",
       "        vertical-align: top;\n",
       "    }\n",
       "\n",
       "    .dataframe thead th {\n",
       "        text-align: right;\n",
       "    }\n",
       "</style>\n",
       "<table border=\"1\" class=\"dataframe\">\n",
       "  <thead>\n",
       "    <tr style=\"text-align: right;\">\n",
       "      <th></th>\n",
       "      <th>roll_no</th>\n",
       "      <th>student_name</th>\n",
       "      <th>city</th>\n",
       "      <th>mobile_1</th>\n",
       "      <th>mobile_2</th>\n",
       "      <th>school</th>\n",
       "      <th>class</th>\n",
       "      <th>standard_school_name</th>\n",
       "      <th>standard_school_addr</th>\n",
       "      <th>standard_school_city</th>\n",
       "      <th>standard_school_id</th>\n",
       "      <th>year</th>\n",
       "    </tr>\n",
       "  </thead>\n",
       "  <tbody>\n",
       "    <tr>\n",
       "      <th>0</th>\n",
       "      <td>121574</td>\n",
       "      <td>SIDHANT BOBADE</td>\n",
       "      <td>AMRAVATI CENTRE</td>\n",
       "      <td>NaN</td>\n",
       "      <td>NaN</td>\n",
       "      <td>DNYANMATA HIGH SCHOOL CAMP ROAD NEAR IMA HALL AMRAVATI</td>\n",
       "      <td>7</td>\n",
       "      <td>DNYANMATA HIGH SCHOOL AMRAVATI</td>\n",
       "      <td>CAMP ROAD 444602</td>\n",
       "      <td>AMRAVATI</td>\n",
       "      <td>1111</td>\n",
       "      <td>2023-24</td>\n",
       "    </tr>\n",
       "    <tr>\n",
       "      <th>1</th>\n",
       "      <td>117785</td>\n",
       "      <td>PARTH BONDE</td>\n",
       "      <td>AMRAVATI CENTRE</td>\n",
       "      <td>NaN</td>\n",
       "      <td>NaN</td>\n",
       "      <td>KK CAMBRIDGE SCHOOL AMRAVATI</td>\n",
       "      <td>7</td>\n",
       "      <td>KK CAMBRIDGE SCHOOL</td>\n",
       "      <td>MARDI ROAD AMRAVATI</td>\n",
       "      <td>AMRAVATI</td>\n",
       "      <td>2170</td>\n",
       "      <td>2023-24</td>\n",
       "    </tr>\n",
       "    <tr>\n",
       "      <th>2</th>\n",
       "      <td>122267</td>\n",
       "      <td>NINAD MATKAR</td>\n",
       "      <td>AMRAVATI CENTRE</td>\n",
       "      <td>NaN</td>\n",
       "      <td>NaN</td>\n",
       "      <td>ORCHID CITY INTERNATIONAL SCHOOL AMRAVATI</td>\n",
       "      <td>7</td>\n",
       "      <td>ORCHID CITY INTERNATIONAL SCHOOL AMRAVATI</td>\n",
       "      <td>NAVSARI TO AMRAVATI WALGAON ROAD NAVSARI AMRAVATI</td>\n",
       "      <td>AMRAVATI</td>\n",
       "      <td>2239</td>\n",
       "      <td>2023-24</td>\n",
       "    </tr>\n",
       "    <tr>\n",
       "      <th>3</th>\n",
       "      <td>121575</td>\n",
       "      <td>RACHIT RAVI TAYADE</td>\n",
       "      <td>AMRAVATI CENTRE</td>\n",
       "      <td>NaN</td>\n",
       "      <td>NaN</td>\n",
       "      <td>DNYANMATA HIGH SCHOOL CAMP ROAD NEAR IMA HALL AMRAVATI</td>\n",
       "      <td>7</td>\n",
       "      <td>DNYANMATA HIGH SCHOOL AMRAVATI</td>\n",
       "      <td>CAMP ROAD 444602</td>\n",
       "      <td>AMRAVATI</td>\n",
       "      <td>1111</td>\n",
       "      <td>2023-24</td>\n",
       "    </tr>\n",
       "    <tr>\n",
       "      <th>4</th>\n",
       "      <td>117780</td>\n",
       "      <td>PRANJAL P KANTUTE</td>\n",
       "      <td>AMRAVATI CENTRE</td>\n",
       "      <td>NaN</td>\n",
       "      <td>NaN</td>\n",
       "      <td>KK CAMBRIDGE SCHOOL AMRAVATI</td>\n",
       "      <td>7</td>\n",
       "      <td>KK CAMBRIDGE SCHOOL</td>\n",
       "      <td>MARDI ROAD AMRAVATI</td>\n",
       "      <td>AMRAVATI</td>\n",
       "      <td>2170</td>\n",
       "      <td>2023-24</td>\n",
       "    </tr>\n",
       "  </tbody>\n",
       "</table>\n",
       "</div>"
      ],
      "text/plain": [
       "  roll_no        student_name             city  mobile_1  mobile_2  \\\n",
       "0  121574      SIDHANT BOBADE  AMRAVATI CENTRE       NaN       NaN   \n",
       "1  117785         PARTH BONDE  AMRAVATI CENTRE       NaN       NaN   \n",
       "2  122267        NINAD MATKAR  AMRAVATI CENTRE       NaN       NaN   \n",
       "3  121575  RACHIT RAVI TAYADE  AMRAVATI CENTRE       NaN       NaN   \n",
       "4  117780   PRANJAL P KANTUTE  AMRAVATI CENTRE       NaN       NaN   \n",
       "\n",
       "                                                   school  class  \\\n",
       "0  DNYANMATA HIGH SCHOOL CAMP ROAD NEAR IMA HALL AMRAVATI      7   \n",
       "1                            KK CAMBRIDGE SCHOOL AMRAVATI      7   \n",
       "2               ORCHID CITY INTERNATIONAL SCHOOL AMRAVATI      7   \n",
       "3  DNYANMATA HIGH SCHOOL CAMP ROAD NEAR IMA HALL AMRAVATI      7   \n",
       "4                            KK CAMBRIDGE SCHOOL AMRAVATI      7   \n",
       "\n",
       "                        standard_school_name  \\\n",
       "0             DNYANMATA HIGH SCHOOL AMRAVATI   \n",
       "1                        KK CAMBRIDGE SCHOOL   \n",
       "2  ORCHID CITY INTERNATIONAL SCHOOL AMRAVATI   \n",
       "3             DNYANMATA HIGH SCHOOL AMRAVATI   \n",
       "4                        KK CAMBRIDGE SCHOOL   \n",
       "\n",
       "                                standard_school_addr standard_school_city  \\\n",
       "0                                   CAMP ROAD 444602             AMRAVATI   \n",
       "1                                MARDI ROAD AMRAVATI             AMRAVATI   \n",
       "2  NAVSARI TO AMRAVATI WALGAON ROAD NAVSARI AMRAVATI             AMRAVATI   \n",
       "3                                   CAMP ROAD 444602             AMRAVATI   \n",
       "4                                MARDI ROAD AMRAVATI             AMRAVATI   \n",
       "\n",
       "   standard_school_id     year  \n",
       "0                1111  2023-24  \n",
       "1                2170  2023-24  \n",
       "2                2239  2023-24  \n",
       "3                1111  2023-24  \n",
       "4                2170  2023-24  "
      ]
     },
     "execution_count": 32,
     "metadata": {},
     "output_type": "execute_result"
    }
   ],
   "source": [
    "leap_data_df.head()"
   ]
  },
  {
   "cell_type": "code",
   "execution_count": 33,
   "metadata": {},
   "outputs": [
    {
     "data": {
      "text/plain": [
       "36184"
      ]
     },
     "execution_count": 33,
     "metadata": {},
     "output_type": "execute_result"
    }
   ],
   "source": [
    "leap_data_df.shape[0]"
   ]
  },
  {
   "cell_type": "code",
   "execution_count": 34,
   "metadata": {},
   "outputs": [
    {
     "name": "stdout",
     "output_type": "stream",
     "text": [
      "Table successfully created: stg_leap_data\n"
     ]
    }
   ],
   "source": [
    "#Write the data in table so that it can be referenced in future\n",
    "create_table_from_df(config['postgres_credentials'], config['db_details']['dbname'], 'stg_leap_data', leap_data_df)"
   ]
  },
  {
   "cell_type": "code",
   "execution_count": null,
   "metadata": {},
   "outputs": [],
   "source": [
    "#Read leap data from database\n",
    "leap_data_df = create_df_from_sql(connection_config=config['postgres_credentials'], dbname='icad_db', tbname='stg_leap_data')"
   ]
  },
  {
   "cell_type": "code",
   "execution_count": 18,
   "metadata": {},
   "outputs": [],
   "source": [
    "# leap_data_df.to_csv('/Users/akshayranade/Documents/Personal/icad_data_management/data/sales/cleaned_leap_data.csv')"
   ]
  },
  {
   "cell_type": "code",
   "execution_count": null,
   "metadata": {},
   "outputs": [],
   "source": []
  },
  {
   "cell_type": "code",
   "execution_count": 13,
   "metadata": {},
   "outputs": [],
   "source": [
    "school_str = 'DNYANMATA HIGH SCHOOL CAMP ROAD NEAR IMA HALL AMRAVATI'"
   ]
  },
  {
   "cell_type": "code",
   "execution_count": 19,
   "metadata": {},
   "outputs": [],
   "source": []
  },
  {
   "cell_type": "code",
   "execution_count": 20,
   "metadata": {},
   "outputs": [
    {
     "data": {
      "text/html": [
       "<div>\n",
       "<style scoped>\n",
       "    .dataframe tbody tr th:only-of-type {\n",
       "        vertical-align: middle;\n",
       "    }\n",
       "\n",
       "    .dataframe tbody tr th {\n",
       "        vertical-align: top;\n",
       "    }\n",
       "\n",
       "    .dataframe thead th {\n",
       "        text-align: right;\n",
       "    }\n",
       "</style>\n",
       "<table border=\"1\" class=\"dataframe\">\n",
       "  <thead>\n",
       "    <tr style=\"text-align: right;\">\n",
       "      <th></th>\n",
       "      <th>school_id</th>\n",
       "      <th>institute_name</th>\n",
       "      <th>address1</th>\n",
       "      <th>address2</th>\n",
       "      <th>city</th>\n",
       "      <th>district</th>\n",
       "      <th>state</th>\n",
       "      <th>board</th>\n",
       "      <th>contact_no</th>\n",
       "      <th>email_address</th>\n",
       "      <th>category</th>\n",
       "      <th>branch_name</th>\n",
       "    </tr>\n",
       "  </thead>\n",
       "  <tbody>\n",
       "    <tr>\n",
       "      <th>0</th>\n",
       "      <td>1000</td>\n",
       "      <td>ABC CONVENT AND HIGH SCHOOL</td>\n",
       "      <td>MANEWADA</td>\n",
       "      <td>MANEWADA</td>\n",
       "      <td>NAGPUR</td>\n",
       "      <td>Nagpur</td>\n",
       "      <td>MAHARASHTRA</td>\n",
       "      <td>State</td>\n",
       "      <td>9096300320</td>\n",
       "      <td>None</td>\n",
       "      <td>B</td>\n",
       "      <td>EAST CENTRE - NAGPUR</td>\n",
       "    </tr>\n",
       "    <tr>\n",
       "      <th>1</th>\n",
       "      <td>1001</td>\n",
       "      <td>ADARSH SANSKAR VIDYALAYA HASANBAGH</td>\n",
       "      <td>HASANBAGH</td>\n",
       "      <td>HASANBAGH</td>\n",
       "      <td>NAGPUR</td>\n",
       "      <td>Nagpur</td>\n",
       "      <td>MAHARASHTRA</td>\n",
       "      <td>State</td>\n",
       "      <td>None</td>\n",
       "      <td>None</td>\n",
       "      <td>B</td>\n",
       "      <td>EAST CENTRE - NAGPUR</td>\n",
       "    </tr>\n",
       "    <tr>\n",
       "      <th>2</th>\n",
       "      <td>1002</td>\n",
       "      <td>ADARSH SANSKAR VIDYALAYA CBSE HUDKESHWAR</td>\n",
       "      <td>HUDKESHWAR</td>\n",
       "      <td>HUDKESHWAR</td>\n",
       "      <td>NAGPUR</td>\n",
       "      <td>Nagpur</td>\n",
       "      <td>MAHARASHTRA</td>\n",
       "      <td>State</td>\n",
       "      <td>7620264605</td>\n",
       "      <td>None</td>\n",
       "      <td>B</td>\n",
       "      <td>EAST CENTRE - NAGPUR</td>\n",
       "    </tr>\n",
       "    <tr>\n",
       "      <th>3</th>\n",
       "      <td>1003</td>\n",
       "      <td>ADARSH VIDYA MANDIR</td>\n",
       "      <td>CA ROAD</td>\n",
       "      <td>CA ROAD</td>\n",
       "      <td>NAGPUR</td>\n",
       "      <td>Nagpur</td>\n",
       "      <td>MAHARASHTRA</td>\n",
       "      <td>State</td>\n",
       "      <td>None</td>\n",
       "      <td>None</td>\n",
       "      <td>B</td>\n",
       "      <td>EAST CENTRE - NAGPUR</td>\n",
       "    </tr>\n",
       "    <tr>\n",
       "      <th>4</th>\n",
       "      <td>1004</td>\n",
       "      <td>ADARSH VIDYALAYA</td>\n",
       "      <td>UMRER</td>\n",
       "      <td>UMRER</td>\n",
       "      <td>UMRED</td>\n",
       "      <td>Nagpur</td>\n",
       "      <td>MAHARASHTRA</td>\n",
       "      <td>State</td>\n",
       "      <td>None</td>\n",
       "      <td>None</td>\n",
       "      <td>B</td>\n",
       "      <td>EAST CENTRE - NAGPUR</td>\n",
       "    </tr>\n",
       "  </tbody>\n",
       "</table>\n",
       "</div>"
      ],
      "text/plain": [
       "   school_id                            institute_name    address1  \\\n",
       "0       1000               ABC CONVENT AND HIGH SCHOOL    MANEWADA   \n",
       "1       1001        ADARSH SANSKAR VIDYALAYA HASANBAGH   HASANBAGH   \n",
       "2       1002  ADARSH SANSKAR VIDYALAYA CBSE HUDKESHWAR  HUDKESHWAR   \n",
       "3       1003                       ADARSH VIDYA MANDIR     CA ROAD   \n",
       "4       1004                          ADARSH VIDYALAYA       UMRER   \n",
       "\n",
       "     address2    city district        state  board  contact_no email_address  \\\n",
       "0    MANEWADA  NAGPUR   Nagpur  MAHARASHTRA  State  9096300320          None   \n",
       "1   HASANBAGH  NAGPUR   Nagpur  MAHARASHTRA  State        None          None   \n",
       "2  HUDKESHWAR  NAGPUR   Nagpur  MAHARASHTRA  State  7620264605          None   \n",
       "3     CA ROAD  NAGPUR   Nagpur  MAHARASHTRA  State        None          None   \n",
       "4       UMRER   UMRED   Nagpur  MAHARASHTRA  State        None          None   \n",
       "\n",
       "  category           branch_name  \n",
       "0        B  EAST CENTRE - NAGPUR  \n",
       "1        B  EAST CENTRE - NAGPUR  \n",
       "2        B  EAST CENTRE - NAGPUR  \n",
       "3        B  EAST CENTRE - NAGPUR  \n",
       "4        B  EAST CENTRE - NAGPUR  "
      ]
     },
     "execution_count": 20,
     "metadata": {},
     "output_type": "execute_result"
    }
   ],
   "source": [
    "school_master.head()"
   ]
  },
  {
   "cell_type": "code",
   "execution_count": 21,
   "metadata": {},
   "outputs": [],
   "source": [
    "school_master['school_name_add1'] = school_master['institute_name'] + ' ' + school_master['address1']\n",
    "school_master['school_name_add2'] = school_master['institute_name'] + ' ' + school_master['address2']\n",
    "school_master['school_name_add1_city'] = school_master['institute_name'] + ' ' + school_master['address1'] + ' ' + school_master['city']\n",
    "school_master['school_name_add2_city'] = school_master['institute_name'] + ' ' + school_master['address2'] + ' ' + school_master['city']\n",
    "school_master['school_name_full_add'] = school_master['institute_name'] + ' ' + school_master['address1'] + ' ' + school_master['address2'] + ' ' + school_master['city'] "
   ]
  },
  {
   "cell_type": "code",
   "execution_count": 22,
   "metadata": {},
   "outputs": [
    {
     "data": {
      "text/html": [
       "<div>\n",
       "<style scoped>\n",
       "    .dataframe tbody tr th:only-of-type {\n",
       "        vertical-align: middle;\n",
       "    }\n",
       "\n",
       "    .dataframe tbody tr th {\n",
       "        vertical-align: top;\n",
       "    }\n",
       "\n",
       "    .dataframe thead th {\n",
       "        text-align: right;\n",
       "    }\n",
       "</style>\n",
       "<table border=\"1\" class=\"dataframe\">\n",
       "  <thead>\n",
       "    <tr style=\"text-align: right;\">\n",
       "      <th></th>\n",
       "      <th>school_id</th>\n",
       "      <th>institute_name</th>\n",
       "      <th>address1</th>\n",
       "      <th>address2</th>\n",
       "      <th>city</th>\n",
       "      <th>district</th>\n",
       "      <th>state</th>\n",
       "      <th>board</th>\n",
       "      <th>contact_no</th>\n",
       "      <th>email_address</th>\n",
       "      <th>category</th>\n",
       "      <th>branch_name</th>\n",
       "      <th>school_name_add1</th>\n",
       "      <th>school_name_add2</th>\n",
       "      <th>school_name_add1_city</th>\n",
       "      <th>school_name_add2_city</th>\n",
       "      <th>school_name_full_add</th>\n",
       "    </tr>\n",
       "  </thead>\n",
       "  <tbody>\n",
       "    <tr>\n",
       "      <th>0</th>\n",
       "      <td>1000</td>\n",
       "      <td>ABC CONVENT AND HIGH SCHOOL</td>\n",
       "      <td>MANEWADA</td>\n",
       "      <td>MANEWADA</td>\n",
       "      <td>NAGPUR</td>\n",
       "      <td>Nagpur</td>\n",
       "      <td>MAHARASHTRA</td>\n",
       "      <td>State</td>\n",
       "      <td>9096300320</td>\n",
       "      <td>None</td>\n",
       "      <td>B</td>\n",
       "      <td>EAST CENTRE - NAGPUR</td>\n",
       "      <td>ABC CONVENT AND HIGH SCHOOL MANEWADA</td>\n",
       "      <td>ABC CONVENT AND HIGH SCHOOL MANEWADA</td>\n",
       "      <td>ABC CONVENT AND HIGH SCHOOL MANEWADA NAGPUR</td>\n",
       "      <td>ABC CONVENT AND HIGH SCHOOL MANEWADA NAGPUR</td>\n",
       "      <td>ABC CONVENT AND HIGH SCHOOL MANEWADA MANEWADA NAGPUR</td>\n",
       "    </tr>\n",
       "    <tr>\n",
       "      <th>1</th>\n",
       "      <td>1001</td>\n",
       "      <td>ADARSH SANSKAR VIDYALAYA HASANBAGH</td>\n",
       "      <td>HASANBAGH</td>\n",
       "      <td>HASANBAGH</td>\n",
       "      <td>NAGPUR</td>\n",
       "      <td>Nagpur</td>\n",
       "      <td>MAHARASHTRA</td>\n",
       "      <td>State</td>\n",
       "      <td>None</td>\n",
       "      <td>None</td>\n",
       "      <td>B</td>\n",
       "      <td>EAST CENTRE - NAGPUR</td>\n",
       "      <td>ADARSH SANSKAR VIDYALAYA HASANBAGH HASANBAGH</td>\n",
       "      <td>ADARSH SANSKAR VIDYALAYA HASANBAGH HASANBAGH</td>\n",
       "      <td>ADARSH SANSKAR VIDYALAYA HASANBAGH HASANBAGH NAGPUR</td>\n",
       "      <td>ADARSH SANSKAR VIDYALAYA HASANBAGH HASANBAGH NAGPUR</td>\n",
       "      <td>ADARSH SANSKAR VIDYALAYA HASANBAGH HASANBAGH HASANBAGH NAGPUR</td>\n",
       "    </tr>\n",
       "    <tr>\n",
       "      <th>2</th>\n",
       "      <td>1002</td>\n",
       "      <td>ADARSH SANSKAR VIDYALAYA CBSE HUDKESHWAR</td>\n",
       "      <td>HUDKESHWAR</td>\n",
       "      <td>HUDKESHWAR</td>\n",
       "      <td>NAGPUR</td>\n",
       "      <td>Nagpur</td>\n",
       "      <td>MAHARASHTRA</td>\n",
       "      <td>State</td>\n",
       "      <td>7620264605</td>\n",
       "      <td>None</td>\n",
       "      <td>B</td>\n",
       "      <td>EAST CENTRE - NAGPUR</td>\n",
       "      <td>ADARSH SANSKAR VIDYALAYA CBSE HUDKESHWAR HUDKESHWAR</td>\n",
       "      <td>ADARSH SANSKAR VIDYALAYA CBSE HUDKESHWAR HUDKESHWAR</td>\n",
       "      <td>ADARSH SANSKAR VIDYALAYA CBSE HUDKESHWAR HUDKESHWAR NAGPUR</td>\n",
       "      <td>ADARSH SANSKAR VIDYALAYA CBSE HUDKESHWAR HUDKESHWAR NAGPUR</td>\n",
       "      <td>ADARSH SANSKAR VIDYALAYA CBSE HUDKESHWAR HUDKESHWAR HUDKESHWAR NAGPUR</td>\n",
       "    </tr>\n",
       "    <tr>\n",
       "      <th>3</th>\n",
       "      <td>1003</td>\n",
       "      <td>ADARSH VIDYA MANDIR</td>\n",
       "      <td>CA ROAD</td>\n",
       "      <td>CA ROAD</td>\n",
       "      <td>NAGPUR</td>\n",
       "      <td>Nagpur</td>\n",
       "      <td>MAHARASHTRA</td>\n",
       "      <td>State</td>\n",
       "      <td>None</td>\n",
       "      <td>None</td>\n",
       "      <td>B</td>\n",
       "      <td>EAST CENTRE - NAGPUR</td>\n",
       "      <td>ADARSH VIDYA MANDIR CA ROAD</td>\n",
       "      <td>ADARSH VIDYA MANDIR CA ROAD</td>\n",
       "      <td>ADARSH VIDYA MANDIR CA ROAD NAGPUR</td>\n",
       "      <td>ADARSH VIDYA MANDIR CA ROAD NAGPUR</td>\n",
       "      <td>ADARSH VIDYA MANDIR CA ROAD CA ROAD NAGPUR</td>\n",
       "    </tr>\n",
       "    <tr>\n",
       "      <th>4</th>\n",
       "      <td>1004</td>\n",
       "      <td>ADARSH VIDYALAYA</td>\n",
       "      <td>UMRER</td>\n",
       "      <td>UMRER</td>\n",
       "      <td>UMRED</td>\n",
       "      <td>Nagpur</td>\n",
       "      <td>MAHARASHTRA</td>\n",
       "      <td>State</td>\n",
       "      <td>None</td>\n",
       "      <td>None</td>\n",
       "      <td>B</td>\n",
       "      <td>EAST CENTRE - NAGPUR</td>\n",
       "      <td>ADARSH VIDYALAYA UMRER</td>\n",
       "      <td>ADARSH VIDYALAYA UMRER</td>\n",
       "      <td>ADARSH VIDYALAYA UMRER UMRED</td>\n",
       "      <td>ADARSH VIDYALAYA UMRER UMRED</td>\n",
       "      <td>ADARSH VIDYALAYA UMRER UMRER UMRED</td>\n",
       "    </tr>\n",
       "  </tbody>\n",
       "</table>\n",
       "</div>"
      ],
      "text/plain": [
       "   school_id                            institute_name    address1  \\\n",
       "0       1000               ABC CONVENT AND HIGH SCHOOL    MANEWADA   \n",
       "1       1001        ADARSH SANSKAR VIDYALAYA HASANBAGH   HASANBAGH   \n",
       "2       1002  ADARSH SANSKAR VIDYALAYA CBSE HUDKESHWAR  HUDKESHWAR   \n",
       "3       1003                       ADARSH VIDYA MANDIR     CA ROAD   \n",
       "4       1004                          ADARSH VIDYALAYA       UMRER   \n",
       "\n",
       "     address2    city district        state  board  contact_no email_address  \\\n",
       "0    MANEWADA  NAGPUR   Nagpur  MAHARASHTRA  State  9096300320          None   \n",
       "1   HASANBAGH  NAGPUR   Nagpur  MAHARASHTRA  State        None          None   \n",
       "2  HUDKESHWAR  NAGPUR   Nagpur  MAHARASHTRA  State  7620264605          None   \n",
       "3     CA ROAD  NAGPUR   Nagpur  MAHARASHTRA  State        None          None   \n",
       "4       UMRER   UMRED   Nagpur  MAHARASHTRA  State        None          None   \n",
       "\n",
       "  category           branch_name  \\\n",
       "0        B  EAST CENTRE - NAGPUR   \n",
       "1        B  EAST CENTRE - NAGPUR   \n",
       "2        B  EAST CENTRE - NAGPUR   \n",
       "3        B  EAST CENTRE - NAGPUR   \n",
       "4        B  EAST CENTRE - NAGPUR   \n",
       "\n",
       "                                      school_name_add1  \\\n",
       "0                 ABC CONVENT AND HIGH SCHOOL MANEWADA   \n",
       "1         ADARSH SANSKAR VIDYALAYA HASANBAGH HASANBAGH   \n",
       "2  ADARSH SANSKAR VIDYALAYA CBSE HUDKESHWAR HUDKESHWAR   \n",
       "3                          ADARSH VIDYA MANDIR CA ROAD   \n",
       "4                               ADARSH VIDYALAYA UMRER   \n",
       "\n",
       "                                      school_name_add2  \\\n",
       "0                 ABC CONVENT AND HIGH SCHOOL MANEWADA   \n",
       "1         ADARSH SANSKAR VIDYALAYA HASANBAGH HASANBAGH   \n",
       "2  ADARSH SANSKAR VIDYALAYA CBSE HUDKESHWAR HUDKESHWAR   \n",
       "3                          ADARSH VIDYA MANDIR CA ROAD   \n",
       "4                               ADARSH VIDYALAYA UMRER   \n",
       "\n",
       "                                        school_name_add1_city  \\\n",
       "0                 ABC CONVENT AND HIGH SCHOOL MANEWADA NAGPUR   \n",
       "1         ADARSH SANSKAR VIDYALAYA HASANBAGH HASANBAGH NAGPUR   \n",
       "2  ADARSH SANSKAR VIDYALAYA CBSE HUDKESHWAR HUDKESHWAR NAGPUR   \n",
       "3                          ADARSH VIDYA MANDIR CA ROAD NAGPUR   \n",
       "4                                ADARSH VIDYALAYA UMRER UMRED   \n",
       "\n",
       "                                        school_name_add2_city  \\\n",
       "0                 ABC CONVENT AND HIGH SCHOOL MANEWADA NAGPUR   \n",
       "1         ADARSH SANSKAR VIDYALAYA HASANBAGH HASANBAGH NAGPUR   \n",
       "2  ADARSH SANSKAR VIDYALAYA CBSE HUDKESHWAR HUDKESHWAR NAGPUR   \n",
       "3                          ADARSH VIDYA MANDIR CA ROAD NAGPUR   \n",
       "4                                ADARSH VIDYALAYA UMRER UMRED   \n",
       "\n",
       "                                                    school_name_full_add  \n",
       "0                   ABC CONVENT AND HIGH SCHOOL MANEWADA MANEWADA NAGPUR  \n",
       "1          ADARSH SANSKAR VIDYALAYA HASANBAGH HASANBAGH HASANBAGH NAGPUR  \n",
       "2  ADARSH SANSKAR VIDYALAYA CBSE HUDKESHWAR HUDKESHWAR HUDKESHWAR NAGPUR  \n",
       "3                             ADARSH VIDYA MANDIR CA ROAD CA ROAD NAGPUR  \n",
       "4                                     ADARSH VIDYALAYA UMRER UMRER UMRED  "
      ]
     },
     "execution_count": 22,
     "metadata": {},
     "output_type": "execute_result"
    }
   ],
   "source": [
    "school_master.head()"
   ]
  },
  {
   "cell_type": "code",
   "execution_count": 23,
   "metadata": {},
   "outputs": [
    {
     "data": {
      "text/html": [
       "<div>\n",
       "<style scoped>\n",
       "    .dataframe tbody tr th:only-of-type {\n",
       "        vertical-align: middle;\n",
       "    }\n",
       "\n",
       "    .dataframe tbody tr th {\n",
       "        vertical-align: top;\n",
       "    }\n",
       "\n",
       "    .dataframe thead th {\n",
       "        text-align: right;\n",
       "    }\n",
       "</style>\n",
       "<table border=\"1\" class=\"dataframe\">\n",
       "  <thead>\n",
       "    <tr style=\"text-align: right;\">\n",
       "      <th></th>\n",
       "      <th>school_id</th>\n",
       "      <th>institute_name</th>\n",
       "      <th>address1</th>\n",
       "      <th>address2</th>\n",
       "      <th>city</th>\n",
       "      <th>district</th>\n",
       "      <th>state</th>\n",
       "      <th>board</th>\n",
       "      <th>contact_no</th>\n",
       "      <th>email_address</th>\n",
       "      <th>category</th>\n",
       "      <th>branch_name</th>\n",
       "      <th>school_name_add1</th>\n",
       "      <th>school_name_add2</th>\n",
       "      <th>school_name_add1_city</th>\n",
       "      <th>school_name_add2_city</th>\n",
       "      <th>school_name_full_add</th>\n",
       "    </tr>\n",
       "  </thead>\n",
       "  <tbody>\n",
       "    <tr>\n",
       "      <th>111</th>\n",
       "      <td>1111</td>\n",
       "      <td>DNYANMATA HIGH SCHOOL AMRAVATI</td>\n",
       "      <td>CAMP ROAD 444602</td>\n",
       "      <td>AMRAVATI</td>\n",
       "      <td>AMRAVATI</td>\n",
       "      <td>AMRAVATI</td>\n",
       "      <td>MAHARASHTRA</td>\n",
       "      <td>State</td>\n",
       "      <td>7212663263</td>\n",
       "      <td>None</td>\n",
       "      <td>A+</td>\n",
       "      <td>AMRAVATI CENTRE</td>\n",
       "      <td>DNYANMATA HIGH SCHOOL AMRAVATI CAMP ROAD 444602</td>\n",
       "      <td>DNYANMATA HIGH SCHOOL AMRAVATI AMRAVATI</td>\n",
       "      <td>DNYANMATA HIGH SCHOOL AMRAVATI CAMP ROAD 444602 AMRAVATI</td>\n",
       "      <td>DNYANMATA HIGH SCHOOL AMRAVATI AMRAVATI AMRAVATI</td>\n",
       "      <td>DNYANMATA HIGH SCHOOL AMRAVATI CAMP ROAD 444602 AMRAVATI AMRAVATI</td>\n",
       "    </tr>\n",
       "  </tbody>\n",
       "</table>\n",
       "</div>"
      ],
      "text/plain": [
       "     school_id                  institute_name          address1  address2  \\\n",
       "111       1111  DNYANMATA HIGH SCHOOL AMRAVATI  CAMP ROAD 444602  AMRAVATI   \n",
       "\n",
       "         city  district        state  board  contact_no email_address  \\\n",
       "111  AMRAVATI  AMRAVATI  MAHARASHTRA  State  7212663263          None   \n",
       "\n",
       "    category      branch_name  \\\n",
       "111       A+  AMRAVATI CENTRE   \n",
       "\n",
       "                                    school_name_add1  \\\n",
       "111  DNYANMATA HIGH SCHOOL AMRAVATI CAMP ROAD 444602   \n",
       "\n",
       "                            school_name_add2  \\\n",
       "111  DNYANMATA HIGH SCHOOL AMRAVATI AMRAVATI   \n",
       "\n",
       "                                        school_name_add1_city  \\\n",
       "111  DNYANMATA HIGH SCHOOL AMRAVATI CAMP ROAD 444602 AMRAVATI   \n",
       "\n",
       "                                school_name_add2_city  \\\n",
       "111  DNYANMATA HIGH SCHOOL AMRAVATI AMRAVATI AMRAVATI   \n",
       "\n",
       "                                                  school_name_full_add  \n",
       "111  DNYANMATA HIGH SCHOOL AMRAVATI CAMP ROAD 444602 AMRAVATI AMRAVATI  "
      ]
     },
     "execution_count": 23,
     "metadata": {},
     "output_type": "execute_result"
    }
   ],
   "source": [
    "school_master[school_master['institute_name'] == 'DNYANMATA HIGH SCHOOL AMRAVATI'].head()"
   ]
  },
  {
   "cell_type": "code",
   "execution_count": 25,
   "metadata": {},
   "outputs": [
    {
     "data": {
      "text/html": [
       "<div>\n",
       "<style scoped>\n",
       "    .dataframe tbody tr th:only-of-type {\n",
       "        vertical-align: middle;\n",
       "    }\n",
       "\n",
       "    .dataframe tbody tr th {\n",
       "        vertical-align: top;\n",
       "    }\n",
       "\n",
       "    .dataframe thead th {\n",
       "        text-align: right;\n",
       "    }\n",
       "</style>\n",
       "<table border=\"1\" class=\"dataframe\">\n",
       "  <thead>\n",
       "    <tr style=\"text-align: right;\">\n",
       "      <th></th>\n",
       "      <th>school_id</th>\n",
       "      <th>institute_name</th>\n",
       "      <th>address1</th>\n",
       "      <th>address2</th>\n",
       "      <th>city</th>\n",
       "      <th>district</th>\n",
       "      <th>state</th>\n",
       "      <th>board</th>\n",
       "      <th>contact_no</th>\n",
       "      <th>email_address</th>\n",
       "      <th>category</th>\n",
       "      <th>branch_name</th>\n",
       "      <th>school_name_add1</th>\n",
       "      <th>school_name_add2</th>\n",
       "      <th>school_name_add1_city</th>\n",
       "      <th>school_name_add2_city</th>\n",
       "      <th>school_name_full_add</th>\n",
       "    </tr>\n",
       "  </thead>\n",
       "  <tbody>\n",
       "    <tr>\n",
       "      <th>1165</th>\n",
       "      <td>2162</td>\n",
       "      <td>KK CAMBRIDGE SCHOOL</td>\n",
       "      <td>MARDI ROAD AMRAVATI</td>\n",
       "      <td>AMRAVATI</td>\n",
       "      <td>AMRAVATI</td>\n",
       "      <td>AMRAVATI</td>\n",
       "      <td>MAHARASHTRA</td>\n",
       "      <td>CBSE</td>\n",
       "      <td>None</td>\n",
       "      <td>None</td>\n",
       "      <td>A+</td>\n",
       "      <td>AMRAVATI CENTRE</td>\n",
       "      <td>KK CAMBRIDGE SCHOOL MARDI ROAD AMRAVATI</td>\n",
       "      <td>KK CAMBRIDGE SCHOOL AMRAVATI</td>\n",
       "      <td>KK CAMBRIDGE SCHOOL MARDI ROAD AMRAVATI AMRAVATI</td>\n",
       "      <td>KK CAMBRIDGE SCHOOL AMRAVATI AMRAVATI</td>\n",
       "      <td>KK CAMBRIDGE SCHOOL MARDI ROAD AMRAVATI AMRAVATI AMRAVATI</td>\n",
       "    </tr>\n",
       "  </tbody>\n",
       "</table>\n",
       "</div>"
      ],
      "text/plain": [
       "      school_id       institute_name             address1  address2      city  \\\n",
       "1165       2162  KK CAMBRIDGE SCHOOL  MARDI ROAD AMRAVATI  AMRAVATI  AMRAVATI   \n",
       "\n",
       "      district        state board contact_no email_address category  \\\n",
       "1165  AMRAVATI  MAHARASHTRA  CBSE       None          None       A+   \n",
       "\n",
       "          branch_name                         school_name_add1  \\\n",
       "1165  AMRAVATI CENTRE  KK CAMBRIDGE SCHOOL MARDI ROAD AMRAVATI   \n",
       "\n",
       "                  school_name_add2  \\\n",
       "1165  KK CAMBRIDGE SCHOOL AMRAVATI   \n",
       "\n",
       "                                 school_name_add1_city  \\\n",
       "1165  KK CAMBRIDGE SCHOOL MARDI ROAD AMRAVATI AMRAVATI   \n",
       "\n",
       "                      school_name_add2_city  \\\n",
       "1165  KK CAMBRIDGE SCHOOL AMRAVATI AMRAVATI   \n",
       "\n",
       "                                           school_name_full_add  \n",
       "1165  KK CAMBRIDGE SCHOOL MARDI ROAD AMRAVATI AMRAVATI AMRAVATI  "
      ]
     },
     "execution_count": 25,
     "metadata": {},
     "output_type": "execute_result"
    }
   ],
   "source": [
    "school_master[school_master['institute_name'] == 'KK CAMBRIDGE SCHOOL'].head()"
   ]
  },
  {
   "cell_type": "code",
   "execution_count": 26,
   "metadata": {},
   "outputs": [
    {
     "data": {
      "text/plain": [
       "'DNYANMATA HIGH SCHOOL CAMP ROAD NEAR IMA HALL AMRAVATI'"
      ]
     },
     "execution_count": 26,
     "metadata": {},
     "output_type": "execute_result"
    }
   ],
   "source": [
    "school_str"
   ]
  },
  {
   "cell_type": "code",
   "execution_count": 27,
   "metadata": {},
   "outputs": [
    {
     "name": "stdout",
     "output_type": "stream",
     "text": [
      "N\n"
     ]
    }
   ],
   "source": [
    "#Match a string with a school name\n",
    "standard_school_name = ''\n",
    "\n",
    "#Check for exact match with either of the columns\n",
    "if school_str in school_master['school_name_full_add'].to_list():\n",
    "    step = 1\n",
    "    i = school_master['school_name_full_add'].index[school_master['school_name_full_add'].eq(school_str)][0]\n",
    "    standard_school_name = school_master.loc[i, 'institute_name']\n",
    "    standard_school_addr = school_master.loc[i, 'school_name_add1_city']\n",
    "    standard_school_id = school_master.loc[i, 'school_id']\n",
    "elif school_str in school_master['school_name_add2_city'].to_list():\n",
    "    step = 2\n",
    "    i = school_master['school_name_add2_city'].index[school_master['school_name_add2_city'].eq(school_str)][0]\n",
    "    standard_school_name = school_master.loc[i, 'institute_name']\n",
    "    standard_school_addr = school_master.loc[i, 'school_name_add1_city']\n",
    "    standard_school_id = school_master.loc[i, 'school_id']\n",
    "elif school_str in school_master['school_name_add1_city'].to_list():\n",
    "    step = 3\n",
    "    i = school_master['school_name_add1_city'].index[school_master['school_name_add1_city'].eq(school_str)][0]\n",
    "    standard_school_name = school_master.loc[i, 'institute_name']\n",
    "    standard_school_addr = school_master.loc[i, 'school_name_add1_city']\n",
    "    standard_school_id = school_master.loc[i, 'school_id']\n",
    "elif school_str in school_master['school_name_add2'].to_list():\n",
    "    step = 4\n",
    "    i = school_master['school_name_add2'].index[school_master['school_name_add2'].eq(school_str)][0]\n",
    "    standard_school_name = school_master.loc[i, 'institute_name']\n",
    "    standard_school_addr = school_master.loc[i, 'school_name_add1_city']\n",
    "    standard_school_id = school_master.loc[i, 'school_id']\n",
    "elif school_str in school_master['school_name_add1'].to_list():\n",
    "    step = 5\n",
    "    i = school_master['school_name_add1'].index[school_master['school_name_add1'].eq(school_str)][0]\n",
    "    standard_school_name = school_master.loc[i, 'institute_name']\n",
    "    standard_school_addr = school_master.loc[i, 'school_name_add1_city']\n",
    "    standard_school_id = school_master.loc[i, 'school_id']\n",
    "elif school_str in school_master['institute_name'].to_list():\n",
    "    step = 6\n",
    "    i = school_master['institute_name'].index[school_master['institute_name'].eq(school_str)][0]\n",
    "    standard_school_name = school_master.loc[i, 'institute_name']\n",
    "    standard_school_addr = school_master.loc[i, 'school_name_add1_city']\n",
    "    standard_school_id = school_master.loc[i, 'school_id']\n",
    "else:\n",
    "    print('N')"
   ]
  },
  {
   "cell_type": "code",
   "execution_count": 28,
   "metadata": {},
   "outputs": [
    {
     "data": {
      "text/plain": [
       "''"
      ]
     },
     "execution_count": 28,
     "metadata": {},
     "output_type": "execute_result"
    }
   ],
   "source": [
    "standard_school_name"
   ]
  },
  {
   "cell_type": "code",
   "execution_count": 30,
   "metadata": {},
   "outputs": [],
   "source": [
    "from difflib import SequenceMatcher\n",
    "import jellyfish\n",
    "\n",
    "from nltk.metrics.distance import jaccard_distance\n",
    "from nltk.util import ngrams\n",
    "from nltk.metrics.distance  import edit_distance\n",
    "\n",
    "import textdistance\n",
    "\n",
    "from textdistance import JaroWinkler, Jaro, Cosine, LCSSeq "
   ]
  },
  {
   "cell_type": "code",
   "execution_count": 31,
   "metadata": {},
   "outputs": [],
   "source": [
    "master_schools = school_master['school_name_add1_city'].to_list()\n",
    "\n",
    "match_list_jaro = []\n",
    "match_list_cosine = []\n",
    "\n",
    "for s in master_schools:\n",
    "    match_list_jaro.append(textdistance.jaro_winkler.similarity(school_str, s))\n",
    "    match_list_cosine.append(textdistance.cosine.similarity(school_str, s))"
   ]
  },
  {
   "cell_type": "code",
   "execution_count": 33,
   "metadata": {},
   "outputs": [
    {
     "data": {
      "text/plain": [
       "0.9033730158730159"
      ]
     },
     "execution_count": 33,
     "metadata": {},
     "output_type": "execute_result"
    }
   ],
   "source": [
    "max(match_list_jaro)"
   ]
  },
  {
   "cell_type": "code",
   "execution_count": 38,
   "metadata": {},
   "outputs": [],
   "source": [
    "jaro_index = match_list_jaro.index(max(match_list_jaro))"
   ]
  },
  {
   "cell_type": "code",
   "execution_count": 40,
   "metadata": {},
   "outputs": [
    {
     "data": {
      "text/plain": [
       "'DNYANMATA HIGH SCHOOL AMRAVATI'"
      ]
     },
     "execution_count": 40,
     "metadata": {},
     "output_type": "execute_result"
    }
   ],
   "source": [
    "school_master.loc[jaro_index, 'institute_name']"
   ]
  },
  {
   "cell_type": "code",
   "execution_count": 34,
   "metadata": {},
   "outputs": [
    {
     "data": {
      "text/plain": [
       "0.8728715609439694"
      ]
     },
     "execution_count": 34,
     "metadata": {},
     "output_type": "execute_result"
    }
   ],
   "source": [
    "max(match_list_cosine)"
   ]
  },
  {
   "cell_type": "code",
   "execution_count": 41,
   "metadata": {},
   "outputs": [],
   "source": [
    "cosine_index = match_list_cosine.index(max(match_list_cosine))"
   ]
  },
  {
   "cell_type": "code",
   "execution_count": 84,
   "metadata": {},
   "outputs": [],
   "source": [
    "school_str = 'DNYANMATA HIGH SCHOOL CAMP ROAD NEAR IMA HALL AMRAVATI'\n",
    "# standard_str = \"DNYANMATA HIGH SCHOOL AMRAVATI CAMP ROAD 444602 AMRAVATI\"\n",
    "\n",
    "\n",
    "# school_str = 'SOMALWAR HIGH SCHOOL RAMDASPETH'\n",
    "# standard_str = \"SOMALWAR HIGH SCHOOL AND JR COLLEGE RAMDASPETH\""
   ]
  },
  {
   "cell_type": "code",
   "execution_count": 78,
   "metadata": {},
   "outputs": [],
   "source": [
    "#Sequence matcher\n",
    "s = SequenceMatcher(None, school_str, standard_str)"
   ]
  },
  {
   "cell_type": "code",
   "execution_count": 79,
   "metadata": {},
   "outputs": [
    {
     "data": {
      "text/plain": [
       "0.8051948051948052"
      ]
     },
     "execution_count": 79,
     "metadata": {},
     "output_type": "execute_result"
    }
   ],
   "source": [
    "s.ratio()"
   ]
  },
  {
   "cell_type": "code",
   "execution_count": 80,
   "metadata": {},
   "outputs": [
    {
     "data": {
      "text/plain": [
       "15"
      ]
     },
     "execution_count": 80,
     "metadata": {},
     "output_type": "execute_result"
    }
   ],
   "source": [
    "#Jellyfish levenstein (replacement based)\n",
    "jellyfish.levenshtein_distance(school_str, standard_str)"
   ]
  },
  {
   "cell_type": "code",
   "execution_count": 81,
   "metadata": {},
   "outputs": [
    {
     "data": {
      "text/plain": [
       "0.8590462833099579"
      ]
     },
     "execution_count": 81,
     "metadata": {},
     "output_type": "execute_result"
    }
   ],
   "source": [
    "#jellyfish jaro (replacement based)\n",
    "jellyfish.jaro_similarity(school_str, standard_str)"
   ]
  },
  {
   "cell_type": "code",
   "execution_count": 82,
   "metadata": {},
   "outputs": [
    {
     "data": {
      "text/plain": [
       "0.9154277699859747"
      ]
     },
     "execution_count": 82,
     "metadata": {},
     "output_type": "execute_result"
    }
   ],
   "source": [
    "textdistance.jaro_winkler.similarity(school_str, standard_str)"
   ]
  },
  {
   "cell_type": "code",
   "execution_count": 83,
   "metadata": {},
   "outputs": [
    {
     "data": {
      "text/plain": [
       "0.820922069065183"
      ]
     },
     "execution_count": 83,
     "metadata": {},
     "output_type": "execute_result"
    }
   ],
   "source": [
    "textdistance.cosine.similarity(school_str, standard_str)"
   ]
  },
  {
   "cell_type": "code",
   "execution_count": 76,
   "metadata": {},
   "outputs": [
    {
     "data": {
      "text/plain": [
       "0.38"
      ]
     },
     "execution_count": 76,
     "metadata": {},
     "output_type": "execute_result"
    }
   ],
   "source": [
    "1-jaccard_distance(set(ngrams(school_str, 3)), set(ngrams(standard_str, 3)))"
   ]
  },
  {
   "cell_type": "code",
   "execution_count": null,
   "metadata": {},
   "outputs": [],
   "source": []
  },
  {
   "cell_type": "code",
   "execution_count": null,
   "metadata": {},
   "outputs": [],
   "source": [
    "# A function to standardise the school name with reference to the schoool_master table\n",
    "def standard_school_mapping(school_name_str) -> str:\n",
    "    #Read school_master data\n",
    "    school_master = create_df_from_sql(connection_config=config['postgres_credentials'], dbname='icad_db', tbname='school_master')\n",
    "     "
   ]
  },
  {
   "cell_type": "code",
   "execution_count": 107,
   "metadata": {},
   "outputs": [],
   "source": [
    "#Split the school name and address\n",
    "leap_data_df['school'] = leap_data_df['school'].str.strip()"
   ]
  },
  {
   "cell_type": "code",
   "execution_count": 112,
   "metadata": {},
   "outputs": [
    {
     "data": {
      "text/html": [
       "<div>\n",
       "<style scoped>\n",
       "    .dataframe tbody tr th:only-of-type {\n",
       "        vertical-align: middle;\n",
       "    }\n",
       "\n",
       "    .dataframe tbody tr th {\n",
       "        vertical-align: top;\n",
       "    }\n",
       "\n",
       "    .dataframe thead th {\n",
       "        text-align: right;\n",
       "    }\n",
       "</style>\n",
       "<table border=\"1\" class=\"dataframe\">\n",
       "  <thead>\n",
       "    <tr style=\"text-align: right;\">\n",
       "      <th></th>\n",
       "      <th>roll_no</th>\n",
       "      <th>student_name</th>\n",
       "      <th>city</th>\n",
       "      <th>mobile_1</th>\n",
       "      <th>mobile_2</th>\n",
       "      <th>school</th>\n",
       "      <th>class</th>\n",
       "    </tr>\n",
       "  </thead>\n",
       "  <tbody>\n",
       "    <tr>\n",
       "      <th>0</th>\n",
       "      <td>121574</td>\n",
       "      <td>Sidhant Bobade</td>\n",
       "      <td>Amravati Centre</td>\n",
       "      <td>NaN</td>\n",
       "      <td>NaN</td>\n",
       "      <td>Dnyanmata High School Camp road, near IMA hall...</td>\n",
       "      <td>7th</td>\n",
       "    </tr>\n",
       "    <tr>\n",
       "      <th>1</th>\n",
       "      <td>117785</td>\n",
       "      <td>Parth Bonde</td>\n",
       "      <td>Amravati Centre</td>\n",
       "      <td>NaN</td>\n",
       "      <td>NaN</td>\n",
       "      <td>K.K. Cambridge School, Amravati</td>\n",
       "      <td>7th</td>\n",
       "    </tr>\n",
       "    <tr>\n",
       "      <th>2</th>\n",
       "      <td>122267</td>\n",
       "      <td>Ninad Matkar</td>\n",
       "      <td>Amravati Centre</td>\n",
       "      <td>NaN</td>\n",
       "      <td>NaN</td>\n",
       "      <td>Orchid City International School, Amravati</td>\n",
       "      <td>7th</td>\n",
       "    </tr>\n",
       "    <tr>\n",
       "      <th>3</th>\n",
       "      <td>121575</td>\n",
       "      <td>Rachit Ravi Tayade</td>\n",
       "      <td>Amravati Centre</td>\n",
       "      <td>NaN</td>\n",
       "      <td>NaN</td>\n",
       "      <td>Dnyanmata High School Camp road, near IMA hall...</td>\n",
       "      <td>7th</td>\n",
       "    </tr>\n",
       "    <tr>\n",
       "      <th>4</th>\n",
       "      <td>117780</td>\n",
       "      <td>Pranjal P Kantute</td>\n",
       "      <td>Amravati Centre</td>\n",
       "      <td>NaN</td>\n",
       "      <td>NaN</td>\n",
       "      <td>K.K. Cambridge School, Amravati</td>\n",
       "      <td>7th</td>\n",
       "    </tr>\n",
       "  </tbody>\n",
       "</table>\n",
       "</div>"
      ],
      "text/plain": [
       "  roll_no        student_name             city  mobile_1  mobile_2  \\\n",
       "0  121574      Sidhant Bobade  Amravati Centre       NaN       NaN   \n",
       "1  117785         Parth Bonde  Amravati Centre       NaN       NaN   \n",
       "2  122267        Ninad Matkar  Amravati Centre       NaN       NaN   \n",
       "3  121575  Rachit Ravi Tayade  Amravati Centre       NaN       NaN   \n",
       "4  117780   Pranjal P Kantute  Amravati Centre       NaN       NaN   \n",
       "\n",
       "                                              school class  \n",
       "0  Dnyanmata High School Camp road, near IMA hall...   7th  \n",
       "1                    K.K. Cambridge School, Amravati   7th  \n",
       "2         Orchid City International School, Amravati   7th  \n",
       "3  Dnyanmata High School Camp road, near IMA hall...   7th  \n",
       "4                    K.K. Cambridge School, Amravati   7th  "
      ]
     },
     "execution_count": 112,
     "metadata": {},
     "output_type": "execute_result"
    }
   ],
   "source": [
    "leap_data_df.head()"
   ]
  },
  {
   "cell_type": "code",
   "execution_count": 122,
   "metadata": {},
   "outputs": [],
   "source": [
    "leap_data_df['school_name'] = leap_data_df['school'].apply(lambda x: str(x).split(',')[0] if len(str(x).split(',')) >= 1 else None)"
   ]
  },
  {
   "cell_type": "code",
   "execution_count": 124,
   "metadata": {},
   "outputs": [
    {
     "ename": "IndexError",
     "evalue": "list index out of range",
     "output_type": "error",
     "traceback": [
      "\u001b[0;31m---------------------------------------------------------------------------\u001b[0m",
      "\u001b[0;31mIndexError\u001b[0m                                Traceback (most recent call last)",
      "Cell \u001b[0;32mIn[124], line 1\u001b[0m\n\u001b[0;32m----> 1\u001b[0m leap_data_df[\u001b[38;5;124m'\u001b[39m\u001b[38;5;124mschool_address\u001b[39m\u001b[38;5;124m'\u001b[39m] \u001b[38;5;241m=\u001b[39m leap_data_df[\u001b[38;5;124m'\u001b[39m\u001b[38;5;124mschool\u001b[39m\u001b[38;5;124m'\u001b[39m]\u001b[38;5;241m.\u001b[39mapply(\u001b[38;5;28;01mlambda\u001b[39;00m x: [\u001b[38;5;124m'\u001b[39m\u001b[38;5;124m \u001b[39m\u001b[38;5;124m'\u001b[39m \u001b[38;5;241m+\u001b[39m \u001b[38;5;28mstr\u001b[39m(x)\u001b[38;5;241m.\u001b[39msplit(\u001b[38;5;124m'\u001b[39m\u001b[38;5;124m,\u001b[39m\u001b[38;5;124m'\u001b[39m)[i] \u001b[38;5;28;01mfor\u001b[39;00m i \u001b[38;5;129;01min\u001b[39;00m (\u001b[38;5;241m1\u001b[39m, \u001b[38;5;28mlen\u001b[39m(\u001b[38;5;28mstr\u001b[39m(x)\u001b[38;5;241m.\u001b[39msplit(\u001b[38;5;124m'\u001b[39m\u001b[38;5;124m,\u001b[39m\u001b[38;5;124m'\u001b[39m)))] \u001b[38;5;28;01mif\u001b[39;00m \u001b[38;5;28mlen\u001b[39m(\u001b[38;5;28mstr\u001b[39m(x)\u001b[38;5;241m.\u001b[39msplit(\u001b[38;5;124m'\u001b[39m\u001b[38;5;124m,\u001b[39m\u001b[38;5;124m'\u001b[39m)) \u001b[38;5;241m>\u001b[39m \u001b[38;5;241m1\u001b[39m \u001b[38;5;28;01melse\u001b[39;00m \u001b[38;5;28;01mNone\u001b[39;00m)\n",
      "File \u001b[0;32m/opt/anaconda3/lib/python3.11/site-packages/pandas/core/series.py:4764\u001b[0m, in \u001b[0;36mSeries.apply\u001b[0;34m(self, func, convert_dtype, args, by_row, **kwargs)\u001b[0m\n\u001b[1;32m   4629\u001b[0m \u001b[38;5;28;01mdef\u001b[39;00m \u001b[38;5;21mapply\u001b[39m(\n\u001b[1;32m   4630\u001b[0m     \u001b[38;5;28mself\u001b[39m,\n\u001b[1;32m   4631\u001b[0m     func: AggFuncType,\n\u001b[0;32m   (...)\u001b[0m\n\u001b[1;32m   4636\u001b[0m     \u001b[38;5;241m*\u001b[39m\u001b[38;5;241m*\u001b[39mkwargs,\n\u001b[1;32m   4637\u001b[0m ) \u001b[38;5;241m-\u001b[39m\u001b[38;5;241m>\u001b[39m DataFrame \u001b[38;5;241m|\u001b[39m Series:\n\u001b[1;32m   4638\u001b[0m \u001b[38;5;250m    \u001b[39m\u001b[38;5;124;03m\"\"\"\u001b[39;00m\n\u001b[1;32m   4639\u001b[0m \u001b[38;5;124;03m    Invoke function on values of Series.\u001b[39;00m\n\u001b[1;32m   4640\u001b[0m \n\u001b[0;32m   (...)\u001b[0m\n\u001b[1;32m   4755\u001b[0m \u001b[38;5;124;03m    dtype: float64\u001b[39;00m\n\u001b[1;32m   4756\u001b[0m \u001b[38;5;124;03m    \"\"\"\u001b[39;00m\n\u001b[1;32m   4757\u001b[0m     \u001b[38;5;28;01mreturn\u001b[39;00m SeriesApply(\n\u001b[1;32m   4758\u001b[0m         \u001b[38;5;28mself\u001b[39m,\n\u001b[1;32m   4759\u001b[0m         func,\n\u001b[1;32m   4760\u001b[0m         convert_dtype\u001b[38;5;241m=\u001b[39mconvert_dtype,\n\u001b[1;32m   4761\u001b[0m         by_row\u001b[38;5;241m=\u001b[39mby_row,\n\u001b[1;32m   4762\u001b[0m         args\u001b[38;5;241m=\u001b[39margs,\n\u001b[1;32m   4763\u001b[0m         kwargs\u001b[38;5;241m=\u001b[39mkwargs,\n\u001b[0;32m-> 4764\u001b[0m     )\u001b[38;5;241m.\u001b[39mapply()\n",
      "File \u001b[0;32m/opt/anaconda3/lib/python3.11/site-packages/pandas/core/apply.py:1209\u001b[0m, in \u001b[0;36mSeriesApply.apply\u001b[0;34m(self)\u001b[0m\n\u001b[1;32m   1206\u001b[0m     \u001b[38;5;28;01mreturn\u001b[39;00m \u001b[38;5;28mself\u001b[39m\u001b[38;5;241m.\u001b[39mapply_compat()\n\u001b[1;32m   1208\u001b[0m \u001b[38;5;66;03m# self.func is Callable\u001b[39;00m\n\u001b[0;32m-> 1209\u001b[0m \u001b[38;5;28;01mreturn\u001b[39;00m \u001b[38;5;28mself\u001b[39m\u001b[38;5;241m.\u001b[39mapply_standard()\n",
      "File \u001b[0;32m/opt/anaconda3/lib/python3.11/site-packages/pandas/core/apply.py:1289\u001b[0m, in \u001b[0;36mSeriesApply.apply_standard\u001b[0;34m(self)\u001b[0m\n\u001b[1;32m   1283\u001b[0m \u001b[38;5;66;03m# row-wise access\u001b[39;00m\n\u001b[1;32m   1284\u001b[0m \u001b[38;5;66;03m# apply doesn't have a `na_action` keyword and for backward compat reasons\u001b[39;00m\n\u001b[1;32m   1285\u001b[0m \u001b[38;5;66;03m# we need to give `na_action=\"ignore\"` for categorical data.\u001b[39;00m\n\u001b[1;32m   1286\u001b[0m \u001b[38;5;66;03m# TODO: remove the `na_action=\"ignore\"` when that default has been changed in\u001b[39;00m\n\u001b[1;32m   1287\u001b[0m \u001b[38;5;66;03m#  Categorical (GH51645).\u001b[39;00m\n\u001b[1;32m   1288\u001b[0m action \u001b[38;5;241m=\u001b[39m \u001b[38;5;124m\"\u001b[39m\u001b[38;5;124mignore\u001b[39m\u001b[38;5;124m\"\u001b[39m \u001b[38;5;28;01mif\u001b[39;00m \u001b[38;5;28misinstance\u001b[39m(obj\u001b[38;5;241m.\u001b[39mdtype, CategoricalDtype) \u001b[38;5;28;01melse\u001b[39;00m \u001b[38;5;28;01mNone\u001b[39;00m\n\u001b[0;32m-> 1289\u001b[0m mapped \u001b[38;5;241m=\u001b[39m obj\u001b[38;5;241m.\u001b[39m_map_values(\n\u001b[1;32m   1290\u001b[0m     mapper\u001b[38;5;241m=\u001b[39mcurried, na_action\u001b[38;5;241m=\u001b[39maction, convert\u001b[38;5;241m=\u001b[39m\u001b[38;5;28mself\u001b[39m\u001b[38;5;241m.\u001b[39mconvert_dtype\n\u001b[1;32m   1291\u001b[0m )\n\u001b[1;32m   1293\u001b[0m \u001b[38;5;28;01mif\u001b[39;00m \u001b[38;5;28mlen\u001b[39m(mapped) \u001b[38;5;129;01mand\u001b[39;00m \u001b[38;5;28misinstance\u001b[39m(mapped[\u001b[38;5;241m0\u001b[39m], ABCSeries):\n\u001b[1;32m   1294\u001b[0m     \u001b[38;5;66;03m# GH#43986 Need to do list(mapped) in order to get treated as nested\u001b[39;00m\n\u001b[1;32m   1295\u001b[0m     \u001b[38;5;66;03m#  See also GH#25959 regarding EA support\u001b[39;00m\n\u001b[1;32m   1296\u001b[0m     \u001b[38;5;28;01mreturn\u001b[39;00m obj\u001b[38;5;241m.\u001b[39m_constructor_expanddim(\u001b[38;5;28mlist\u001b[39m(mapped), index\u001b[38;5;241m=\u001b[39mobj\u001b[38;5;241m.\u001b[39mindex)\n",
      "File \u001b[0;32m/opt/anaconda3/lib/python3.11/site-packages/pandas/core/base.py:921\u001b[0m, in \u001b[0;36mIndexOpsMixin._map_values\u001b[0;34m(self, mapper, na_action, convert)\u001b[0m\n\u001b[1;32m    918\u001b[0m \u001b[38;5;28;01mif\u001b[39;00m \u001b[38;5;28misinstance\u001b[39m(arr, ExtensionArray):\n\u001b[1;32m    919\u001b[0m     \u001b[38;5;28;01mreturn\u001b[39;00m arr\u001b[38;5;241m.\u001b[39mmap(mapper, na_action\u001b[38;5;241m=\u001b[39mna_action)\n\u001b[0;32m--> 921\u001b[0m \u001b[38;5;28;01mreturn\u001b[39;00m algorithms\u001b[38;5;241m.\u001b[39mmap_array(arr, mapper, na_action\u001b[38;5;241m=\u001b[39mna_action, convert\u001b[38;5;241m=\u001b[39mconvert)\n",
      "File \u001b[0;32m/opt/anaconda3/lib/python3.11/site-packages/pandas/core/algorithms.py:1814\u001b[0m, in \u001b[0;36mmap_array\u001b[0;34m(arr, mapper, na_action, convert)\u001b[0m\n\u001b[1;32m   1812\u001b[0m values \u001b[38;5;241m=\u001b[39m arr\u001b[38;5;241m.\u001b[39mastype(\u001b[38;5;28mobject\u001b[39m, copy\u001b[38;5;241m=\u001b[39m\u001b[38;5;28;01mFalse\u001b[39;00m)\n\u001b[1;32m   1813\u001b[0m \u001b[38;5;28;01mif\u001b[39;00m na_action \u001b[38;5;129;01mis\u001b[39;00m \u001b[38;5;28;01mNone\u001b[39;00m:\n\u001b[0;32m-> 1814\u001b[0m     \u001b[38;5;28;01mreturn\u001b[39;00m lib\u001b[38;5;241m.\u001b[39mmap_infer(values, mapper, convert\u001b[38;5;241m=\u001b[39mconvert)\n\u001b[1;32m   1815\u001b[0m \u001b[38;5;28;01melse\u001b[39;00m:\n\u001b[1;32m   1816\u001b[0m     \u001b[38;5;28;01mreturn\u001b[39;00m lib\u001b[38;5;241m.\u001b[39mmap_infer_mask(\n\u001b[1;32m   1817\u001b[0m         values, mapper, mask\u001b[38;5;241m=\u001b[39misna(values)\u001b[38;5;241m.\u001b[39mview(np\u001b[38;5;241m.\u001b[39muint8), convert\u001b[38;5;241m=\u001b[39mconvert\n\u001b[1;32m   1818\u001b[0m     )\n",
      "File \u001b[0;32mlib.pyx:2926\u001b[0m, in \u001b[0;36mpandas._libs.lib.map_infer\u001b[0;34m()\u001b[0m\n",
      "Cell \u001b[0;32mIn[124], line 1\u001b[0m, in \u001b[0;36m<lambda>\u001b[0;34m(x)\u001b[0m\n\u001b[0;32m----> 1\u001b[0m leap_data_df[\u001b[38;5;124m'\u001b[39m\u001b[38;5;124mschool_address\u001b[39m\u001b[38;5;124m'\u001b[39m] \u001b[38;5;241m=\u001b[39m leap_data_df[\u001b[38;5;124m'\u001b[39m\u001b[38;5;124mschool\u001b[39m\u001b[38;5;124m'\u001b[39m]\u001b[38;5;241m.\u001b[39mapply(\u001b[38;5;28;01mlambda\u001b[39;00m x: [\u001b[38;5;124m'\u001b[39m\u001b[38;5;124m \u001b[39m\u001b[38;5;124m'\u001b[39m \u001b[38;5;241m+\u001b[39m \u001b[38;5;28mstr\u001b[39m(x)\u001b[38;5;241m.\u001b[39msplit(\u001b[38;5;124m'\u001b[39m\u001b[38;5;124m,\u001b[39m\u001b[38;5;124m'\u001b[39m)[i] \u001b[38;5;28;01mfor\u001b[39;00m i \u001b[38;5;129;01min\u001b[39;00m (\u001b[38;5;241m1\u001b[39m, \u001b[38;5;28mlen\u001b[39m(\u001b[38;5;28mstr\u001b[39m(x)\u001b[38;5;241m.\u001b[39msplit(\u001b[38;5;124m'\u001b[39m\u001b[38;5;124m,\u001b[39m\u001b[38;5;124m'\u001b[39m)))] \u001b[38;5;28;01mif\u001b[39;00m \u001b[38;5;28mlen\u001b[39m(\u001b[38;5;28mstr\u001b[39m(x)\u001b[38;5;241m.\u001b[39msplit(\u001b[38;5;124m'\u001b[39m\u001b[38;5;124m,\u001b[39m\u001b[38;5;124m'\u001b[39m)) \u001b[38;5;241m>\u001b[39m \u001b[38;5;241m1\u001b[39m \u001b[38;5;28;01melse\u001b[39;00m \u001b[38;5;28;01mNone\u001b[39;00m)\n",
      "Cell \u001b[0;32mIn[124], line 1\u001b[0m, in \u001b[0;36m<listcomp>\u001b[0;34m(.0)\u001b[0m\n\u001b[0;32m----> 1\u001b[0m leap_data_df[\u001b[38;5;124m'\u001b[39m\u001b[38;5;124mschool_address\u001b[39m\u001b[38;5;124m'\u001b[39m] \u001b[38;5;241m=\u001b[39m leap_data_df[\u001b[38;5;124m'\u001b[39m\u001b[38;5;124mschool\u001b[39m\u001b[38;5;124m'\u001b[39m]\u001b[38;5;241m.\u001b[39mapply(\u001b[38;5;28;01mlambda\u001b[39;00m x: [\u001b[38;5;124m'\u001b[39m\u001b[38;5;124m \u001b[39m\u001b[38;5;124m'\u001b[39m \u001b[38;5;241m+\u001b[39m \u001b[38;5;28mstr\u001b[39m(x)\u001b[38;5;241m.\u001b[39msplit(\u001b[38;5;124m'\u001b[39m\u001b[38;5;124m,\u001b[39m\u001b[38;5;124m'\u001b[39m)[i] \u001b[38;5;28;01mfor\u001b[39;00m i \u001b[38;5;129;01min\u001b[39;00m (\u001b[38;5;241m1\u001b[39m, \u001b[38;5;28mlen\u001b[39m(\u001b[38;5;28mstr\u001b[39m(x)\u001b[38;5;241m.\u001b[39msplit(\u001b[38;5;124m'\u001b[39m\u001b[38;5;124m,\u001b[39m\u001b[38;5;124m'\u001b[39m)))] \u001b[38;5;28;01mif\u001b[39;00m \u001b[38;5;28mlen\u001b[39m(\u001b[38;5;28mstr\u001b[39m(x)\u001b[38;5;241m.\u001b[39msplit(\u001b[38;5;124m'\u001b[39m\u001b[38;5;124m,\u001b[39m\u001b[38;5;124m'\u001b[39m)) \u001b[38;5;241m>\u001b[39m \u001b[38;5;241m1\u001b[39m \u001b[38;5;28;01melse\u001b[39;00m \u001b[38;5;28;01mNone\u001b[39;00m)\n",
      "\u001b[0;31mIndexError\u001b[0m: list index out of range"
     ]
    }
   ],
   "source": [
    "leap_data_df['school_address'] = leap_data_df['school'].apply(lambda x: [' ' + str(x).split(',')[i] for i in (1, len(str(x).split(',')))] if len(str(x).split(',')) > 1 else None)"
   ]
  },
  {
   "cell_type": "code",
   "execution_count": 115,
   "metadata": {},
   "outputs": [
    {
     "data": {
      "text/html": [
       "<div>\n",
       "<style scoped>\n",
       "    .dataframe tbody tr th:only-of-type {\n",
       "        vertical-align: middle;\n",
       "    }\n",
       "\n",
       "    .dataframe tbody tr th {\n",
       "        vertical-align: top;\n",
       "    }\n",
       "\n",
       "    .dataframe thead th {\n",
       "        text-align: right;\n",
       "    }\n",
       "</style>\n",
       "<table border=\"1\" class=\"dataframe\">\n",
       "  <thead>\n",
       "    <tr style=\"text-align: right;\">\n",
       "      <th></th>\n",
       "      <th>roll_no</th>\n",
       "      <th>student_name</th>\n",
       "      <th>city</th>\n",
       "      <th>mobile_1</th>\n",
       "      <th>mobile_2</th>\n",
       "      <th>school</th>\n",
       "      <th>class</th>\n",
       "      <th>school_name</th>\n",
       "    </tr>\n",
       "  </thead>\n",
       "  <tbody>\n",
       "    <tr>\n",
       "      <th>0</th>\n",
       "      <td>121574</td>\n",
       "      <td>Sidhant Bobade</td>\n",
       "      <td>Amravati Centre</td>\n",
       "      <td>NaN</td>\n",
       "      <td>NaN</td>\n",
       "      <td>Dnyanmata High School Camp road, near IMA hall...</td>\n",
       "      <td>7th</td>\n",
       "      <td>Dnyanmata High School Camp road</td>\n",
       "    </tr>\n",
       "    <tr>\n",
       "      <th>1</th>\n",
       "      <td>117785</td>\n",
       "      <td>Parth Bonde</td>\n",
       "      <td>Amravati Centre</td>\n",
       "      <td>NaN</td>\n",
       "      <td>NaN</td>\n",
       "      <td>K.K. Cambridge School, Amravati</td>\n",
       "      <td>7th</td>\n",
       "      <td>K.K. Cambridge School</td>\n",
       "    </tr>\n",
       "    <tr>\n",
       "      <th>2</th>\n",
       "      <td>122267</td>\n",
       "      <td>Ninad Matkar</td>\n",
       "      <td>Amravati Centre</td>\n",
       "      <td>NaN</td>\n",
       "      <td>NaN</td>\n",
       "      <td>Orchid City International School, Amravati</td>\n",
       "      <td>7th</td>\n",
       "      <td>Orchid City International School</td>\n",
       "    </tr>\n",
       "    <tr>\n",
       "      <th>3</th>\n",
       "      <td>121575</td>\n",
       "      <td>Rachit Ravi Tayade</td>\n",
       "      <td>Amravati Centre</td>\n",
       "      <td>NaN</td>\n",
       "      <td>NaN</td>\n",
       "      <td>Dnyanmata High School Camp road, near IMA hall...</td>\n",
       "      <td>7th</td>\n",
       "      <td>Dnyanmata High School Camp road</td>\n",
       "    </tr>\n",
       "    <tr>\n",
       "      <th>4</th>\n",
       "      <td>117780</td>\n",
       "      <td>Pranjal P Kantute</td>\n",
       "      <td>Amravati Centre</td>\n",
       "      <td>NaN</td>\n",
       "      <td>NaN</td>\n",
       "      <td>K.K. Cambridge School, Amravati</td>\n",
       "      <td>7th</td>\n",
       "      <td>K.K. Cambridge School</td>\n",
       "    </tr>\n",
       "  </tbody>\n",
       "</table>\n",
       "</div>"
      ],
      "text/plain": [
       "  roll_no        student_name             city  mobile_1  mobile_2  \\\n",
       "0  121574      Sidhant Bobade  Amravati Centre       NaN       NaN   \n",
       "1  117785         Parth Bonde  Amravati Centre       NaN       NaN   \n",
       "2  122267        Ninad Matkar  Amravati Centre       NaN       NaN   \n",
       "3  121575  Rachit Ravi Tayade  Amravati Centre       NaN       NaN   \n",
       "4  117780   Pranjal P Kantute  Amravati Centre       NaN       NaN   \n",
       "\n",
       "                                              school class  \\\n",
       "0  Dnyanmata High School Camp road, near IMA hall...   7th   \n",
       "1                    K.K. Cambridge School, Amravati   7th   \n",
       "2         Orchid City International School, Amravati   7th   \n",
       "3  Dnyanmata High School Camp road, near IMA hall...   7th   \n",
       "4                    K.K. Cambridge School, Amravati   7th   \n",
       "\n",
       "                        school_name  \n",
       "0   Dnyanmata High School Camp road  \n",
       "1             K.K. Cambridge School  \n",
       "2  Orchid City International School  \n",
       "3   Dnyanmata High School Camp road  \n",
       "4             K.K. Cambridge School  "
      ]
     },
     "execution_count": 115,
     "metadata": {},
     "output_type": "execute_result"
    }
   ],
   "source": [
    "leap_data_df.head()"
   ]
  },
  {
   "cell_type": "code",
   "execution_count": 102,
   "metadata": {},
   "outputs": [
    {
     "data": {
      "text/html": [
       "<div>\n",
       "<style scoped>\n",
       "    .dataframe tbody tr th:only-of-type {\n",
       "        vertical-align: middle;\n",
       "    }\n",
       "\n",
       "    .dataframe tbody tr th {\n",
       "        vertical-align: top;\n",
       "    }\n",
       "\n",
       "    .dataframe thead th {\n",
       "        text-align: right;\n",
       "    }\n",
       "</style>\n",
       "<table border=\"1\" class=\"dataframe\">\n",
       "  <thead>\n",
       "    <tr style=\"text-align: right;\">\n",
       "      <th></th>\n",
       "      <th>roll_no</th>\n",
       "      <th>student_name</th>\n",
       "      <th>city</th>\n",
       "      <th>mobile_1</th>\n",
       "      <th>mobile_2</th>\n",
       "      <th>school</th>\n",
       "      <th>class</th>\n",
       "      <th>school_name</th>\n",
       "      <th>school_split</th>\n",
       "    </tr>\n",
       "  </thead>\n",
       "  <tbody>\n",
       "  </tbody>\n",
       "</table>\n",
       "</div>"
      ],
      "text/plain": [
       "Empty DataFrame\n",
       "Columns: [roll_no, student_name, city, mobile_1, mobile_2, school, class, school_name, school_split]\n",
       "Index: []"
      ]
     },
     "execution_count": 102,
     "metadata": {},
     "output_type": "execute_result"
    }
   ],
   "source": [
    "leap_data_df[leap_data_df['school_name'] == 'None'].head(40)"
   ]
  },
  {
   "cell_type": "code",
   "execution_count": null,
   "metadata": {},
   "outputs": [],
   "source": []
  }
 ],
 "metadata": {
  "kernelspec": {
   "display_name": "base",
   "language": "python",
   "name": "python3"
  },
  "language_info": {
   "codemirror_mode": {
    "name": "ipython",
    "version": 3
   },
   "file_extension": ".py",
   "mimetype": "text/x-python",
   "name": "python",
   "nbconvert_exporter": "python",
   "pygments_lexer": "ipython3",
   "version": "3.11.7"
  }
 },
 "nbformat": 4,
 "nbformat_minor": 4
}
