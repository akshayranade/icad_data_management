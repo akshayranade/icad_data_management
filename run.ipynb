{
 "cells": [
  {
   "cell_type": "markdown",
   "metadata": {},
   "source": [
    "***\n",
    "# Application Entry Point\n",
    "Run the GUI for the application, which in turn, integrates all other components \n",
    "***"
   ]
  },
  {
   "cell_type": "code",
   "execution_count": 1,
   "metadata": {},
   "outputs": [],
   "source": [
    "#Import libraries\n",
    "from tkinter import *\n",
    "import os"
   ]
  },
  {
   "cell_type": "code",
   "execution_count": 2,
   "metadata": {},
   "outputs": [],
   "source": [
    "#Change directory to gui to load the main GUI class and run the program\n",
    "os.chdir('gui')"
   ]
  },
  {
   "cell_type": "code",
   "execution_count": 3,
   "metadata": {},
   "outputs": [],
   "source": [
    "#Import main GUI class to initiate the UI\n",
    "from FacilityInspectionsGUI import FacilityInspectionsGUI"
   ]
  },
  {
   "cell_type": "code",
   "execution_count": null,
   "metadata": {},
   "outputs": [
    {
     "name": "stdout",
     "output_type": "stream",
     "text": [
      "Entity Selected to see stats: Zip Code\n",
      "Visualisation Selected:Number of establishments by violation type\n",
      "Data not loaded yet. Please load and process the data.\n",
      "Current Directory is: C:\\Users\\akshay\\MSc_Advanced_Programming\\advanced-programming-assessment\\gui\n",
      "Current Directory is: C:\\Users\\akshay\\MSc_Advanced_Programming\\advanced-programming-assessment\n",
      "Config file loaded successfully.\n",
      "Creating database in Postgres.\n",
      "New database created: inspections_db\n",
      "PostgreSQL connection is closed\n",
      "Reading inspections data from raw csv file.\n",
      "Renaming columns of inspections data to standard nomenclature for Postgres.\n",
      "Creating a table in Postgres DB and loading data for inspections.\n",
      "Table successfully created: inspections\n",
      "Data load for inspections data is completed.\n",
      "Reading violations data from raw csv file.\n",
      "Renaming columns of violations data to standard nomenclature for Postgres.\n",
      "Creating a table in Postgres DB and loading data for violations.\n",
      "Table successfully created: violations\n",
      "Data load for violations data is completed.\n",
      "Reading violations data from Postgres DB.\n",
      "Aggregating violations data to get number of violations.\n",
      "Creating a table in Postgres DB and loading data for violations aggregated.\n",
      "Table successfully created: violations_aggregated\n",
      "Data load for violations aggregated data is completed.\n",
      "Reading inspections data from Postgres DB.\n",
      "Reading violations aggregated data from Postgres DB.\n",
      "Joining inspections data and violations aggregated data to get number of violations per facility.\n",
      "Creating a table in Postgres DB and loading data for inspections enriched.\n",
      "Table successfully created: inspections_enriched\n",
      "Data load for inspections enriched data is completed.\n",
      "Data Load process from raw CSVs into PostgresDB completed.\n",
      "True\n",
      "Loading inspections enriched data from database.\n",
      "Inspections data load completed.\n",
      "Treating inspections data to clean and process as per client's brief.\n",
      "Data cleaning and processing completed.\n",
      "Creating a table in Postgres DB and loading inspections cleaned data.\n",
      "Table successfully created: inspections_cleaned\n",
      "Data load for inspections cleaned data is completed.\n",
      "Loading cleaned inspections data from database.\n",
      "Inspections cleaned data load completed.\n",
      "Calculating central tendencies for the inspection score per year for zip code\n",
      "Loading in database\n",
      "Table successfully created: statistics_zip_code\n",
      "Data load for central tendencies data by zip is completed.\n",
      "Loading in database\n",
      "Table successfully created: statistics_seating_type\n",
      "Data load for central tendencies data by type of vendor seating is completed.\n",
      "Loading in database\n",
      "Table successfully created: statistics_seating_capacity\n",
      "Data load for central tendencies data by seating capacity is completed.\n",
      "Loading in database - visualisation aggregation by number of violations\n",
      "Table successfully created: viz_num_violations\n",
      "Data load for visualisation aggregation by number of violations is completed.\n"
     ]
    },
    {
     "name": "stderr",
     "output_type": "stream",
     "text": [
      "C:\\Users\\akshay\\MSc_Advanced_Programming\\advanced-programming-assessment\\data_processing\\day0_data_preparation.py:159: SettingWithCopyWarning: \n",
      "A value is trying to be set on a copy of a slice from a DataFrame.\n",
      "Try using .loc[row_indexer,col_indexer] = value instead\n",
      "\n",
      "See the caveats in the documentation: https://pandas.pydata.org/pandas-docs/stable/user_guide/indexing.html#returning-a-view-versus-a-copy\n",
      "  type_of_vio_yr['violation_tp_list'] = type_of_vio_yr['violation_type'].apply(lambda x: x.replace('{', '').replace('}','').split(','))\n"
     ]
    },
    {
     "name": "stdout",
     "output_type": "stream",
     "text": [
      "Loading in database - visualisation aggregation by type of violations\n",
      "Table successfully created: viz_violation_type\n",
      "Data load for visualisation aggregation by type of violations is completed.\n",
      "Loading in database - visualisation aggregation for geography\n",
      "Table successfully created: viz_geography\n",
      "Data load for visualisation aggregation for geography is completed.\n",
      "Loading in database - visualisation aggregation by zip code\n",
      "Table successfully created: viz_zip_code\n",
      "Data load for visualisation aggregation by zip code is completed.\n",
      "Process for data cleaning and preparation is completed.\n",
      "True\n",
      "Entity Selected to see stats: Zip Code\n",
      "Year selected to see stats: 0\n",
      "Entity value selected for entity Zip Code to see stats: 0\n",
      "Year selected to see stats: 2016\n",
      "Entity value selected for entity Zip Code to see stats: 24032\n",
      "Loading inspections enriched data from database.\n",
      "Inspections data load completed.\n",
      "Treating inspections data to clean and process as per client's brief.\n",
      "Data cleaning and processing completed.\n",
      "Creating a table in Postgres DB and loading inspections cleaned data.\n",
      "Table successfully created: inspections_cleaned\n",
      "Data load for inspections cleaned data is completed.\n",
      "Loading cleaned inspections data from database.\n",
      "Inspections cleaned data load completed.\n",
      "Calculating central tendencies for the inspection score per year for zip code\n",
      "Loading in database\n",
      "Table successfully created: statistics_zip_code\n",
      "Data load for central tendencies data by zip is completed.\n",
      "Loading in database\n",
      "Table successfully created: statistics_seating_type\n",
      "Data load for central tendencies data by type of vendor seating is completed.\n",
      "Loading in database\n",
      "Table successfully created: statistics_seating_capacity\n",
      "Data load for central tendencies data by seating capacity is completed.\n",
      "Loading in database - visualisation aggregation by number of violations\n",
      "Table successfully created: viz_num_violations\n",
      "Data load for visualisation aggregation by number of violations is completed.\n",
      "Loading in database - visualisation aggregation by type of violations\n",
      "Table successfully created: viz_violation_type\n",
      "Data load for visualisation aggregation by type of violations is completed.\n",
      "Loading in database - visualisation aggregation for geography\n",
      "Table successfully created: viz_geography\n",
      "Data load for visualisation aggregation for geography is completed.\n",
      "Loading in database - visualisation aggregation by zip code\n",
      "Table successfully created: viz_zip_code\n",
      "Data load for visualisation aggregation by zip code is completed.\n",
      "Process for data cleaning and preparation is completed.\n",
      "True\n",
      "Entity Selected to see stats: Seating Capacity\n",
      "Year selected to see stats: 0\n",
      "Entity value selected for entity Seating Capacity to see stats: 0\n",
      "Entity Selected to see stats: Type of Seating\n",
      "Year selected to see stats: 0\n",
      "Entity value selected for entity Type of Seating to see stats: 0\n",
      "Year selected to see stats: 2019\n",
      "Entity value selected for entity Type of Seating to see stats: RESTAURANT  SEATS HIGH RISK\n",
      "Visualisation Selected:Number of establishments by number of violations\n",
      "Year selected for visualisation: 2017\n",
      "Visualisation Selected:Number of establishments by number of violations\n",
      "2017\n",
      "current directory is :C:\\Users\\akshay\\MSc_Advanced_Programming\\advanced-programming-assessment\\gui\n",
      "Loading cleaned aggregated data by number of violations from database.\n",
      "Aggregated data by number of violations load completed.\n",
      "Entity Selected to see stats: Zip Code\n",
      "Year selected to see stats: 0\n",
      "Entity value selected for entity Zip Code to see stats: 0\n",
      "Year selected to see stats: 2019\n",
      "Entity value selected for entity Zip Code to see stats: 23078\n",
      "Entity value selected for entity Zip Code to see stats: 24688\n"
     ]
    }
   ],
   "source": [
    "#Run GUI by creating an object of GUI class\n",
    "root = Tk()\n",
    "my_gui = FacilityInspectionsGUI(root)\n",
    "root.mainloop()"
   ]
  },
  {
   "cell_type": "code",
   "execution_count": null,
   "metadata": {},
   "outputs": [],
   "source": []
  }
 ],
 "metadata": {
  "kernelspec": {
   "display_name": "myconda",
   "language": "python",
   "name": "myconda"
  },
  "language_info": {
   "codemirror_mode": {
    "name": "ipython",
    "version": 3
   },
   "file_extension": ".py",
   "mimetype": "text/x-python",
   "name": "python",
   "nbconvert_exporter": "python",
   "pygments_lexer": "ipython3",
   "version": "3.7.11"
  }
 },
 "nbformat": 4,
 "nbformat_minor": 4
}
